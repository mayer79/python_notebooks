{
 "cells": [
  {
   "cell_type": "markdown",
   "metadata": {},
   "source": [
    "# Dear ML Model, Please Multiply"
   ]
  },
  {
   "cell_type": "markdown",
   "metadata": {},
   "source": [
    "This notebook shows how ML models can learn to approximately multiply two numbers, even when the data is noisy.\n",
    "\n",
    "### Basics\n",
    "\n",
    "A typical ML task is to estimate a function $f$ \n",
    "$$\n",
    "    y = f(x_1, x_2, \\dots) + \\varepsilon\n",
    "$$\n",
    "as good as possible by $\\hat f$ from data. Afterward, we can use $\\hat f$ to \n",
    "\n",
    "- gain insights on the relationship between $x_i$ and $y$ and\n",
    "- to make predictions based on $x_i$.\n",
    "\n",
    "The specific steps to find $\\hat f$ depend on the assumed structural form of $f$ and the optimization algorithm used to determine $\\hat f$. \n",
    "\n",
    "### Some examples\n",
    "\n",
    "- **Linear regression**: $f$ is assumed to be linear in its parameters and $\\hat f$ is found by least-squares.\n",
    "- **Generalized linear model**: $g(f)$ is linear and $\\hat f$ is found by iteratively reweighted least-squares.\n",
    "- **Neural net**: $f$ is a composition of linear and non-linear functions, found by auto-differentiation-based gradient descent.\n",
    "- **Decision tree**: $f$ is a binary decision tree, i.e. a collection of yes/no questions calculated by recursion.\n",
    "- **Random forest**: $f$ is the average of randomized decision trees.\n",
    "- **Gradient boosting**: $f$ is the average of decision trees, calculated sequentially. Each tree tries to fix the mistakes of the previous ones.\n",
    "\n",
    "### Outlook\n",
    "\n",
    "In this notebook, we will use neural nets and gradient boosting to learn noisy multiplication of two numbers $x_1$ and $x_2$, i.e.\n",
    "$$\n",
    "    y = f(x_1, x_2) + \\varepsilon = x_1 \\cdot x_2 + \\varepsilon, \n",
    "$$\n",
    "with $\\varepsilon\\sim N(0,1)$."
   ]
  },
  {
   "cell_type": "markdown",
   "metadata": {},
   "source": [
    "## Generate noisy data\n",
    "\n",
    "Let's generate one million independent observations of above random process."
   ]
  },
  {
   "cell_type": "code",
   "execution_count": 84,
   "metadata": {},
   "outputs": [],
   "source": [
    "# Load modules\n",
    "import numpy as np\n",
    "import pandas as pd\n",
    "\n",
    "import matplotlib.pyplot as plt\n",
    "%matplotlib inline\n",
    "\n",
    "import warnings\n",
    "warnings.simplefilter('ignore')"
   ]
  },
  {
   "cell_type": "code",
   "execution_count": 85,
   "metadata": {},
   "outputs": [
    {
     "data": {
      "text/html": [
       "<div>\n",
       "<style scoped>\n",
       "    .dataframe tbody tr th:only-of-type {\n",
       "        vertical-align: middle;\n",
       "    }\n",
       "\n",
       "    .dataframe tbody tr th {\n",
       "        vertical-align: top;\n",
       "    }\n",
       "\n",
       "    .dataframe thead th {\n",
       "        text-align: right;\n",
       "    }\n",
       "</style>\n",
       "<table border=\"1\" class=\"dataframe\">\n",
       "  <thead>\n",
       "    <tr style=\"text-align: right;\">\n",
       "      <th></th>\n",
       "      <th>x1</th>\n",
       "      <th>x2</th>\n",
       "      <th>y</th>\n",
       "    </tr>\n",
       "  </thead>\n",
       "  <tbody>\n",
       "    <tr>\n",
       "      <th>0</th>\n",
       "      <td>-1.427959</td>\n",
       "      <td>-0.909703</td>\n",
       "      <td>2.914672</td>\n",
       "    </tr>\n",
       "    <tr>\n",
       "      <th>1</th>\n",
       "      <td>2.521623</td>\n",
       "      <td>-3.973049</td>\n",
       "      <td>-9.736590</td>\n",
       "    </tr>\n",
       "    <tr>\n",
       "      <th>2</th>\n",
       "      <td>1.307314</td>\n",
       "      <td>-1.002808</td>\n",
       "      <td>-1.534397</td>\n",
       "    </tr>\n",
       "    <tr>\n",
       "      <th>3</th>\n",
       "      <td>-6.998346</td>\n",
       "      <td>-0.479178</td>\n",
       "      <td>3.621836</td>\n",
       "    </tr>\n",
       "    <tr>\n",
       "      <th>4</th>\n",
       "      <td>-5.852353</td>\n",
       "      <td>-1.723083</td>\n",
       "      <td>10.453152</td>\n",
       "    </tr>\n",
       "  </tbody>\n",
       "</table>\n",
       "</div>"
      ],
      "text/plain": [
       "         x1        x2          y\n",
       "0 -1.427959 -0.909703   2.914672\n",
       "1  2.521623 -3.973049  -9.736590\n",
       "2  1.307314 -1.002808  -1.534397\n",
       "3 -6.998346 -0.479178   3.621836\n",
       "4 -5.852353 -1.723083  10.453152"
      ]
     },
     "execution_count": 85,
     "metadata": {},
     "output_type": "execute_result"
    },
    {
     "data": {
      "image/png": "[encoded data removed]",
      "text/plain": [
       "<Figure size 1080x288 with 3 Axes>"
      ]
     },
     "metadata": {
      "needs_background": "light"
     },
     "output_type": "display_data"
    }
   ],
   "source": [
    "# Gernerate n observations\n",
    "np.random.seed(1901)\n",
    "n = 1_000_000 # 10_000_000\n",
    "df = pd.DataFrame(np.random.uniform(-10, 10, size=(n, 2)), columns=['x1', 'x2'])\n",
    "df['y'] = df.x1 * df.x2 + np.random.normal(scale=1, size=(n, ))\n",
    "df.hist(bins=100, layout=(1, 3), figsize=(15, 4))\n",
    "df.head()"
   ]
  },
  {
   "cell_type": "markdown",
   "metadata": {},
   "source": [
    "### Training/Validation split"
   ]
  },
  {
   "cell_type": "code",
   "execution_count": 86,
   "metadata": {},
   "outputs": [],
   "source": [
    "from sklearn.model_selection import train_test_split\n",
    "\n",
    "X_train, X_valid, y_train, y_valid = train_test_split(\n",
    "    df.drop('y', axis=1), \n",
    "    df.y, \n",
    "    train_size=0.9, \n",
    "    random_state=525\n",
    ")"
   ]
  },
  {
   "cell_type": "markdown",
   "metadata": {},
   "source": [
    "## Neural Net\n",
    "\n",
    "Can a neural net predict the result of the (noisy) multiplication if it fed the two inputs?\n",
    "\n",
    "We start with the most simple neural net (no hidden layers) and then, step by step, add more neurons and/or more hidden layers. \n",
    "To do so, we rely on Google's [Keras/Tensorflow](https://www.tensorflow.org/guide/keras/sequential_model?hl=en).\n",
    "\n",
    "It is up to you, dear user, to select the specific architecture. "
   ]
  },
  {
   "cell_type": "code",
   "execution_count": 90,
   "metadata": {},
   "outputs": [],
   "source": [
    "import tensorflow as tf\n",
    "import tensorflow.keras as keras\n",
    "from tensorflow.keras.layers import Dense\n",
    "\n",
    "# Plot history (dropping the first m burn-in epochs)\n",
    "def plot_history(h, drop_m=0):\n",
    "    h = pd.DataFrame(h.history.history)\n",
    "    h['epoch'] = np.arange(len(h.index)) + 1\n",
    "    h = h.iloc[drop_m:]\n",
    "    plt.plot(h.epoch, h.loss, label='Training')\n",
    "    plt.plot(h.epoch, h.val_loss, label='Validation')\n",
    "    plt.legend()\n",
    "    \n",
    "# Callbacks to stop if validation performance stops to improve and to lower the learning-rate if appropriate.\n",
    "early_stop = tf.keras.callbacks.EarlyStopping(patience=10, mode='min')\n",
    "reduce_lr = tf.keras.callbacks.ReduceLROnPlateau(patience=5, factor=0.2)\n",
    "cb = [early_stop, reduce_lr]"
   ]
  },
  {
   "cell_type": "markdown",
   "metadata": {},
   "source": [
    "### Architecture"
   ]
  },
  {
   "cell_type": "code",
   "execution_count": 91,
   "metadata": {},
   "outputs": [
    {
     "name": "stdout",
     "output_type": "stream",
     "text": [
      "Model: \"sequential_13\"\n",
      "_________________________________________________________________\n",
      "Layer (type)                 Output Shape              Param #   \n",
      "=================================================================\n",
      "dense_35 (Dense)             (None, 20)                60        \n",
      "_________________________________________________________________\n",
      "dense_36 (Dense)             (None, 1)                 21        \n",
      "=================================================================\n",
      "Total params: 81\n",
      "Trainable params: 81\n",
      "Non-trainable params: 0\n",
      "_________________________________________________________________\n"
     ]
    }
   ],
   "source": [
    "# Neural net structure (play with architecture)\n",
    "def fresh_neural_net():\n",
    "    m = keras.Sequential()\n",
    "    m.add(Dense(20, activation='tanh', input_shape=(2, )))\n",
    "    m.add(Dense(1, activation='linear'))\n",
    "    m.compile(loss='mse', optimizer=keras.optimizers.Nadam(lr=0.05))\n",
    "    return m\n",
    "\n",
    "# Create new net\n",
    "neural_net = fresh_neural_net()\n",
    "neural_net.summary()"
   ]
  },
  {
   "cell_type": "markdown",
   "metadata": {},
   "source": [
    "### Stochastic gradient descend until model does not get better anymore"
   ]
  },
  {
   "cell_type": "code",
   "execution_count": 92,
   "metadata": {},
   "outputs": [
    {
     "name": "stdout",
     "output_type": "stream",
     "text": [
      "Epoch 1/1000\n",
      "90/90 [==============================] - 1s 7ms/step - loss: 472.3255 - val_loss: 137.0303 - lr: 0.0500\n",
      "Epoch 2/1000\n",
      "90/90 [==============================] - 1s 7ms/step - loss: 92.8682 - val_loss: 60.4263 - lr: 0.0500\n",
      "Epoch 3/1000\n",
      "90/90 [==============================] - 1s 6ms/step - loss: 45.6484 - val_loss: 39.0138 - lr: 0.0500\n",
      "Epoch 4/1000\n",
      "90/90 [==============================] - 1s 10ms/step - loss: 30.3697 - val_loss: 28.0318 - lr: 0.0500\n",
      "Epoch 5/1000\n",
      "90/90 [==============================] - 1s 7ms/step - loss: 23.7744 - val_loss: 19.0956 - lr: 0.0500\n",
      "Epoch 6/1000\n",
      "90/90 [==============================] - 1s 10ms/step - loss: 18.3412 - val_loss: 14.1106 - lr: 0.0500\n",
      "Epoch 7/1000\n",
      "90/90 [==============================] - 1s 9ms/step - loss: 16.3388 - val_loss: 24.9507 - lr: 0.0500\n",
      "Epoch 8/1000\n",
      "90/90 [==============================] - 1s 6ms/step - loss: 14.0847 - val_loss: 10.8982 - lr: 0.0500\n",
      "Epoch 9/1000\n",
      "90/90 [==============================] - 1s 8ms/step - loss: 12.9459 - val_loss: 8.7799 - lr: 0.0500\n",
      "Epoch 10/1000\n",
      "90/90 [==============================] - 1s 6ms/step - loss: 11.2924 - val_loss: 10.2307 - lr: 0.0500\n",
      "Epoch 11/1000\n",
      "90/90 [==============================] - 0s 4ms/step - loss: 8.7956 - val_loss: 8.5919 - lr: 0.0500\n",
      "Epoch 12/1000\n",
      "90/90 [==============================] - 1s 6ms/step - loss: 9.6223 - val_loss: 5.9332 - lr: 0.0500\n",
      "Epoch 13/1000\n",
      "90/90 [==============================] - 1s 6ms/step - loss: 6.3697 - val_loss: 9.0978 - lr: 0.0500\n",
      "Epoch 14/1000\n",
      "90/90 [==============================] - 0s 5ms/step - loss: 9.3929 - val_loss: 7.4644 - lr: 0.0500\n",
      "Epoch 15/1000\n",
      "90/90 [==============================] - 1s 6ms/step - loss: 6.7256 - val_loss: 7.0339 - lr: 0.0500\n",
      "Epoch 16/1000\n",
      "90/90 [==============================] - 1s 9ms/step - loss: 6.9359 - val_loss: 3.7509 - lr: 0.0500\n",
      "Epoch 17/1000\n",
      "90/90 [==============================] - 1s 7ms/step - loss: 6.2056 - val_loss: 7.8317 - lr: 0.0500\n",
      "Epoch 18/1000\n",
      "90/90 [==============================] - 1s 8ms/step - loss: 7.0826 - val_loss: 4.8617 - lr: 0.0500\n",
      "Epoch 19/1000\n",
      "90/90 [==============================] - 0s 5ms/step - loss: 5.8863 - val_loss: 10.9563 - lr: 0.0500\n",
      "Epoch 20/1000\n",
      "90/90 [==============================] - 0s 5ms/step - loss: 5.6119 - val_loss: 5.9537 - lr: 0.0500\n",
      "Epoch 21/1000\n",
      "90/90 [==============================] - 0s 5ms/step - loss: 5.0166 - val_loss: 6.2086 - lr: 0.0500\n",
      "Epoch 22/1000\n",
      "90/90 [==============================] - 1s 6ms/step - loss: 1.9421 - val_loss: 1.8471 - lr: 0.0100\n",
      "Epoch 23/1000\n",
      "90/90 [==============================] - 0s 5ms/step - loss: 1.8363 - val_loss: 1.8169 - lr: 0.0100\n",
      "Epoch 24/1000\n",
      "90/90 [==============================] - 1s 6ms/step - loss: 1.8068 - val_loss: 1.7892 - lr: 0.0100\n",
      "Epoch 25/1000\n",
      "90/90 [==============================] - 1s 7ms/step - loss: 1.7790 - val_loss: 1.7614 - lr: 0.0100\n",
      "Epoch 26/1000\n",
      "90/90 [==============================] - 1s 6ms/step - loss: 1.7524 - val_loss: 1.7360 - lr: 0.0100\n",
      "Epoch 27/1000\n",
      "90/90 [==============================] - ETA: 0s - loss: 1.729 - 1s 7ms/step - loss: 1.7270 - val_loss: 1.7107 - lr: 0.0100\n",
      "Epoch 28/1000\n",
      "90/90 [==============================] - 1s 6ms/step - loss: 1.7028 - val_loss: 1.6873 - lr: 0.0100\n",
      "Epoch 29/1000\n",
      "90/90 [==============================] - 1s 6ms/step - loss: 1.6795 - val_loss: 1.6651 - lr: 0.0100\n",
      "Epoch 30/1000\n",
      "90/90 [==============================] - 1s 6ms/step - loss: 1.6570 - val_loss: 1.6426 - lr: 0.0100\n",
      "Epoch 31/1000\n",
      "90/90 [==============================] - 1s 10ms/step - loss: 1.6351 - val_loss: 1.6214 - lr: 0.0100\n",
      "Epoch 32/1000\n",
      "90/90 [==============================] - 1s 6ms/step - loss: 1.6140 - val_loss: 1.6008 - lr: 0.0100\n",
      "Epoch 33/1000\n",
      "90/90 [==============================] - 1s 6ms/step - loss: 1.5934 - val_loss: 1.5806 - lr: 0.0100\n",
      "Epoch 34/1000\n",
      "90/90 [==============================] - 1s 6ms/step - loss: 1.5734 - val_loss: 1.5611 - lr: 0.0100\n",
      "Epoch 35/1000\n",
      "90/90 [==============================] - 1s 11ms/step - loss: 1.5539 - val_loss: 1.5413 - lr: 0.0100\n",
      "Epoch 36/1000\n",
      "90/90 [==============================] - 1s 6ms/step - loss: 1.5348 - val_loss: 1.5231 - lr: 0.0100\n",
      "Epoch 37/1000\n",
      "90/90 [==============================] - 1s 6ms/step - loss: 1.5161 - val_loss: 1.5044 - lr: 0.0100\n",
      "Epoch 38/1000\n",
      "90/90 [==============================] - 1s 8ms/step - loss: 1.4979 - val_loss: 1.4867 - lr: 0.0100\n",
      "Epoch 39/1000\n",
      "90/90 [==============================] - 1s 6ms/step - loss: 1.4800 - val_loss: 1.4689 - lr: 0.0100\n",
      "Epoch 40/1000\n",
      "90/90 [==============================] - 1s 10ms/step - loss: 1.4627 - val_loss: 1.4516 - lr: 0.0100\n",
      "Epoch 41/1000\n",
      "90/90 [==============================] - 1s 6ms/step - loss: 1.4455 - val_loss: 1.4354 - lr: 0.0100\n",
      "Epoch 42/1000\n",
      "90/90 [==============================] - 1s 6ms/step - loss: 1.4288 - val_loss: 1.4189 - lr: 0.0100\n",
      "Epoch 43/1000\n",
      "90/90 [==============================] - 1s 6ms/step - loss: 1.4127 - val_loss: 1.4035 - lr: 0.0100\n",
      "Epoch 44/1000\n",
      "90/90 [==============================] - 1s 9ms/step - loss: 1.3965 - val_loss: 1.3872 - lr: 0.0100\n",
      "Epoch 45/1000\n",
      "90/90 [==============================] - 1s 11ms/step - loss: 1.3813 - val_loss: 1.3731 - lr: 0.0100\n",
      "Epoch 46/1000\n",
      "90/90 [==============================] - 1s 6ms/step - loss: 1.3657 - val_loss: 1.3581 - lr: 0.0100\n",
      "Epoch 47/1000\n",
      "90/90 [==============================] - 1s 6ms/step - loss: 1.3515 - val_loss: 1.3429 - lr: 0.0100\n",
      "Epoch 48/1000\n",
      "90/90 [==============================] - 1s 10ms/step - loss: 1.3368 - val_loss: 1.3295 - lr: 0.0100\n",
      "Epoch 49/1000\n",
      "90/90 [==============================] - 1s 6ms/step - loss: 1.3231 - val_loss: 1.3140 - lr: 0.0100\n",
      "Epoch 50/1000\n",
      "90/90 [==============================] - 1s 10ms/step - loss: 1.3097 - val_loss: 1.3016 - lr: 0.0100\n",
      "Epoch 51/1000\n",
      "90/90 [==============================] - 1s 9ms/step - loss: 1.2966 - val_loss: 1.2879 - lr: 0.0100\n",
      "Epoch 52/1000\n",
      "90/90 [==============================] - 1s 6ms/step - loss: 1.2851 - val_loss: 1.2783 - lr: 0.0100\n",
      "Epoch 53/1000\n",
      "90/90 [==============================] - 1s 11ms/step - loss: 1.2728 - val_loss: 1.2686 - lr: 0.0100\n",
      "Epoch 54/1000\n",
      "90/90 [==============================] - 1s 10ms/step - loss: 1.2620 - val_loss: 1.2705 - lr: 0.0100\n",
      "Epoch 55/1000\n",
      "90/90 [==============================] - 1s 10ms/step - loss: 1.3339 - val_loss: 1.2511 - lr: 0.0100\n",
      "Epoch 56/1000\n",
      "90/90 [==============================] - 1s 8ms/step - loss: 1.3152 - val_loss: 1.3501 - lr: 0.0100\n",
      "Epoch 57/1000\n",
      "90/90 [==============================] - 1s 6ms/step - loss: 1.3698 - val_loss: 1.4422 - lr: 0.0100\n",
      "Epoch 58/1000\n",
      "90/90 [==============================] - 1s 7ms/step - loss: 1.3046 - val_loss: 1.3132 - lr: 0.0100\n",
      "Epoch 59/1000\n",
      "90/90 [==============================] - 1s 8ms/step - loss: 1.3304 - val_loss: 1.2470 - lr: 0.0100\n",
      "Epoch 60/1000\n",
      "90/90 [==============================] - 1s 11ms/step - loss: 1.3313 - val_loss: 1.2167 - lr: 0.0100\n",
      "Epoch 61/1000\n",
      "90/90 [==============================] - 1s 10ms/step - loss: 1.3365 - val_loss: 1.2460 - lr: 0.0100\n",
      "Epoch 62/1000\n",
      "90/90 [==============================] - 1s 10ms/step - loss: 1.3094 - val_loss: 1.7100 - lr: 0.0100\n",
      "Epoch 63/1000\n",
      "90/90 [==============================] - 1s 11ms/step - loss: 1.2866 - val_loss: 1.3506 - lr: 0.0100\n",
      "Epoch 64/1000\n",
      "90/90 [==============================] - 1s 7ms/step - loss: 1.3249 - val_loss: 1.4166 - lr: 0.0100\n",
      "Epoch 65/1000\n",
      "90/90 [==============================] - 1s 6ms/step - loss: 1.2808 - val_loss: 1.3753 - lr: 0.0100\n",
      "Epoch 66/1000\n",
      "90/90 [==============================] - 1s 6ms/step - loss: 1.1643 - val_loss: 1.1607 - lr: 0.0020\n",
      "Epoch 67/1000\n",
      "90/90 [==============================] - 1s 11ms/step - loss: 1.1592 - val_loss: 1.1589 - lr: 0.0020\n",
      "Epoch 68/1000\n",
      "90/90 [==============================] - 1s 7ms/step - loss: 1.1577 - val_loss: 1.1573 - lr: 0.0020\n",
      "Epoch 69/1000\n",
      "90/90 [==============================] - 1s 11ms/step - loss: 1.1562 - val_loss: 1.1557 - lr: 0.0020\n",
      "Epoch 70/1000\n",
      "90/90 [==============================] - 1s 6ms/step - loss: 1.1546 - val_loss: 1.1542 - lr: 0.0020\n",
      "Epoch 71/1000\n",
      "90/90 [==============================] - 1s 6ms/step - loss: 1.1529 - val_loss: 1.1528 - lr: 0.0020\n",
      "Epoch 72/1000\n",
      "90/90 [==============================] - 1s 10ms/step - loss: 1.1513 - val_loss: 1.1509 - lr: 0.0020\n",
      "Epoch 73/1000\n",
      "90/90 [==============================] - 1s 9ms/step - loss: 1.1495 - val_loss: 1.1490 - lr: 0.0020\n",
      "Epoch 74/1000\n",
      "90/90 [==============================] - 1s 10ms/step - loss: 1.1478 - val_loss: 1.1474 - lr: 0.0020\n",
      "Epoch 75/1000\n",
      "90/90 [==============================] - 1s 10ms/step - loss: 1.1461 - val_loss: 1.1458 - lr: 0.0020\n",
      "Epoch 76/1000\n",
      "90/90 [==============================] - 1s 7ms/step - loss: 1.1442 - val_loss: 1.1437 - lr: 0.0020\n",
      "Epoch 77/1000\n",
      "90/90 [==============================] - 1s 6ms/step - loss: 1.1423 - val_loss: 1.1420 - lr: 0.0020\n",
      "Epoch 78/1000\n",
      "90/90 [==============================] - 1s 8ms/step - loss: 1.1404 - val_loss: 1.1409 - lr: 0.0020\n",
      "Epoch 79/1000\n",
      "90/90 [==============================] - 1s 6ms/step - loss: 1.1386 - val_loss: 1.1375 - lr: 0.0020\n",
      "Epoch 80/1000\n",
      "90/90 [==============================] - 0s 5ms/step - loss: 1.1365 - val_loss: 1.1359 - lr: 0.0020\n",
      "Epoch 81/1000\n",
      "90/90 [==============================] - 1s 10ms/step - loss: 1.1344 - val_loss: 1.1338 - lr: 0.0020\n",
      "Epoch 82/1000\n",
      "90/90 [==============================] - 1s 10ms/step - loss: 1.1324 - val_loss: 1.1326 - lr: 0.0020\n",
      "Epoch 83/1000\n",
      "90/90 [==============================] - 1s 6ms/step - loss: 1.1303 - val_loss: 1.1303 - lr: 0.0020\n",
      "Epoch 84/1000\n",
      "90/90 [==============================] - 1s 10ms/step - loss: 1.1282 - val_loss: 1.1284 - lr: 0.0020\n",
      "Epoch 85/1000\n",
      "90/90 [==============================] - 1s 8ms/step - loss: 1.1261 - val_loss: 1.1256 - lr: 0.0020\n",
      "Epoch 86/1000\n",
      "90/90 [==============================] - 1s 11ms/step - loss: 1.1239 - val_loss: 1.1240 - lr: 0.0020\n",
      "Epoch 87/1000\n",
      "90/90 [==============================] - 1s 11ms/step - loss: 1.1216 - val_loss: 1.1211 - lr: 0.0020\n",
      "Epoch 88/1000\n",
      "90/90 [==============================] - 1s 9ms/step - loss: 1.1193 - val_loss: 1.1191 - lr: 0.0020\n",
      "Epoch 89/1000\n",
      "90/90 [==============================] - 1s 7ms/step - loss: 1.1173 - val_loss: 1.1166 - lr: 0.0020\n",
      "Epoch 90/1000\n",
      "90/90 [==============================] - 0s 6ms/step - loss: 1.1150 - val_loss: 1.1142 - lr: 0.0020\n",
      "Epoch 91/1000\n",
      "90/90 [==============================] - 1s 6ms/step - loss: 1.1128 - val_loss: 1.1118 - lr: 0.0020\n",
      "Epoch 92/1000\n",
      "90/90 [==============================] - 0s 5ms/step - loss: 1.1106 - val_loss: 1.1094 - lr: 0.0020\n",
      "Epoch 93/1000\n",
      "90/90 [==============================] - 1s 6ms/step - loss: 1.1082 - val_loss: 1.1072 - lr: 0.0020\n",
      "Epoch 94/1000\n",
      "90/90 [==============================] - 0s 5ms/step - loss: 1.1061 - val_loss: 1.1049 - lr: 0.0020\n",
      "Epoch 95/1000\n",
      "90/90 [==============================] - 0s 5ms/step - loss: 1.1038 - val_loss: 1.1039 - lr: 0.0020\n",
      "Epoch 96/1000\n",
      "90/90 [==============================] - 0s 6ms/step - loss: 1.1016 - val_loss: 1.1006 - lr: 0.0020\n",
      "Epoch 97/1000\n",
      "90/90 [==============================] - 1s 6ms/step - loss: 1.0994 - val_loss: 1.0994 - lr: 0.0020\n",
      "Epoch 98/1000\n",
      "90/90 [==============================] - 0s 5ms/step - loss: 1.0971 - val_loss: 1.0984 - lr: 0.0020\n",
      "Epoch 99/1000\n",
      "90/90 [==============================] - 0s 5ms/step - loss: 1.0947 - val_loss: 1.0946 - lr: 0.0020\n",
      "Epoch 100/1000\n",
      "90/90 [==============================] - 0s 5ms/step - loss: 1.0928 - val_loss: 1.0933 - lr: 0.0020\n",
      "Epoch 101/1000\n",
      "90/90 [==============================] - 1s 6ms/step - loss: 1.0908 - val_loss: 1.0896 - lr: 0.0020\n",
      "Epoch 102/1000\n",
      "90/90 [==============================] - 0s 5ms/step - loss: 1.0886 - val_loss: 1.0876 - lr: 0.0020\n",
      "Epoch 103/1000\n",
      "90/90 [==============================] - 0s 5ms/step - loss: 1.0873 - val_loss: 1.0867 - lr: 0.0020\n",
      "Epoch 104/1000\n",
      "90/90 [==============================] - 0s 5ms/step - loss: 1.0846 - val_loss: 1.0829 - lr: 0.0020\n",
      "Epoch 105/1000\n",
      "90/90 [==============================] - 0s 5ms/step - loss: 1.0828 - val_loss: 1.0822 - lr: 0.0020\n",
      "Epoch 106/1000\n",
      "90/90 [==============================] - 1s 6ms/step - loss: 1.0813 - val_loss: 1.0796 - lr: 0.0020\n",
      "Epoch 107/1000\n",
      "90/90 [==============================] - 1s 6ms/step - loss: 1.0789 - val_loss: 1.0774 - lr: 0.0020\n",
      "Epoch 108/1000\n",
      "90/90 [==============================] - 0s 5ms/step - loss: 1.0772 - val_loss: 1.0815 - lr: 0.0020\n",
      "Epoch 109/1000\n",
      "90/90 [==============================] - 0s 5ms/step - loss: 1.0756 - val_loss: 1.0745 - lr: 0.0020\n",
      "Epoch 110/1000\n",
      "90/90 [==============================] - 1s 6ms/step - loss: 1.0734 - val_loss: 1.0716 - lr: 0.0020\n",
      "Epoch 111/1000\n",
      "90/90 [==============================] - 1s 6ms/step - loss: 1.0727 - val_loss: 1.0762 - lr: 0.0020\n",
      "Epoch 112/1000\n",
      "90/90 [==============================] - 0s 5ms/step - loss: 1.0708 - val_loss: 1.0717 - lr: 0.0020\n",
      "Epoch 113/1000\n",
      "90/90 [==============================] - 0s 5ms/step - loss: 1.0693 - val_loss: 1.0692 - lr: 0.0020\n",
      "Epoch 114/1000\n",
      "90/90 [==============================] - 1s 6ms/step - loss: 1.0667 - val_loss: 1.0651 - lr: 0.0020\n",
      "Epoch 115/1000\n",
      "90/90 [==============================] - 0s 5ms/step - loss: 1.0659 - val_loss: 1.0671 - lr: 0.0020\n",
      "Epoch 116/1000\n",
      "90/90 [==============================] - 0s 5ms/step - loss: 1.0642 - val_loss: 1.0641 - lr: 0.0020\n",
      "Epoch 117/1000\n",
      "90/90 [==============================] - 0s 5ms/step - loss: 1.0631 - val_loss: 1.0676 - lr: 0.0020\n",
      "Epoch 118/1000\n",
      "90/90 [==============================] - 1s 6ms/step - loss: 1.0634 - val_loss: 1.0590 - lr: 0.0020\n",
      "Epoch 119/1000\n",
      "90/90 [==============================] - 0s 5ms/step - loss: 1.0593 - val_loss: 1.0616 - lr: 0.0020\n",
      "Epoch 120/1000\n",
      "90/90 [==============================] - 1s 6ms/step - loss: 1.0588 - val_loss: 1.0571 - lr: 0.0020\n",
      "Epoch 121/1000\n",
      "90/90 [==============================] - 1s 6ms/step - loss: 1.0589 - val_loss: 1.0564 - lr: 0.0020\n",
      "Epoch 122/1000\n",
      "90/90 [==============================] - 1s 6ms/step - loss: 1.0558 - val_loss: 1.0573 - lr: 0.0020\n",
      "Epoch 123/1000\n",
      "90/90 [==============================] - 1s 10ms/step - loss: 1.0554 - val_loss: 1.0572 - lr: 0.0020\n",
      "Epoch 124/1000\n",
      "90/90 [==============================] - 1s 6ms/step - loss: 1.0542 - val_loss: 1.0534 - lr: 0.0020\n",
      "Epoch 125/1000\n",
      "90/90 [==============================] - 1s 6ms/step - loss: 1.0535 - val_loss: 1.0521 - lr: 0.0020\n",
      "Epoch 126/1000\n",
      "90/90 [==============================] - 1s 6ms/step - loss: 1.0527 - val_loss: 1.0514 - lr: 0.0020\n",
      "Epoch 127/1000\n",
      "90/90 [==============================] - 1s 6ms/step - loss: 1.0511 - val_loss: 1.0483 - lr: 0.0020\n",
      "Epoch 128/1000\n",
      "90/90 [==============================] - 1s 10ms/step - loss: 1.0496 - val_loss: 1.0483 - lr: 0.0020\n",
      "Epoch 129/1000\n",
      "90/90 [==============================] - 1s 6ms/step - loss: 1.0484 - val_loss: 1.0499 - lr: 0.0020\n",
      "Epoch 130/1000\n",
      "90/90 [==============================] - 1s 6ms/step - loss: 1.0476 - val_loss: 1.0494 - lr: 0.0020\n",
      "Epoch 131/1000\n",
      "90/90 [==============================] - 1s 6ms/step - loss: 1.0470 - val_loss: 1.0471 - lr: 0.0020\n",
      "Epoch 132/1000\n",
      "90/90 [==============================] - 1s 6ms/step - loss: 1.0460 - val_loss: 1.0450 - lr: 0.0020\n",
      "Epoch 133/1000\n",
      "90/90 [==============================] - 1s 6ms/step - loss: 1.0453 - val_loss: 1.0478 - lr: 0.0020\n",
      "Epoch 134/1000\n",
      "90/90 [==============================] - 1s 6ms/step - loss: 1.0443 - val_loss: 1.0444 - lr: 0.0020\n",
      "Epoch 135/1000\n",
      "90/90 [==============================] - 1s 9ms/step - loss: 1.0447 - val_loss: 1.0465 - lr: 0.0020\n",
      "Epoch 136/1000\n",
      "90/90 [==============================] - 1s 9ms/step - loss: 1.0428 - val_loss: 1.0435 - lr: 0.0020\n",
      "Epoch 137/1000\n",
      "90/90 [==============================] - 1s 10ms/step - loss: 1.0431 - val_loss: 1.0412 - lr: 0.0020\n",
      "Epoch 138/1000\n",
      "90/90 [==============================] - 1s 9ms/step - loss: 1.0414 - val_loss: 1.0392 - lr: 0.0020\n",
      "Epoch 139/1000\n",
      "22/90 [======>.......................] - ETA: 0s - loss: 1.0360"
     ]
    },
    {
     "ename": "KeyboardInterrupt",
     "evalue": "",
     "output_type": "error",
     "traceback": [
      "\u001b[1;31m---------------------------------------------------------------------------\u001b[0m",
      "\u001b[1;31mKeyboardInterrupt\u001b[0m                         Traceback (most recent call last)",
      "\u001b[1;32m<ipython-input-92-0d01be2deef2>\u001b[0m in \u001b[0;36m<module>\u001b[1;34m\u001b[0m\n\u001b[1;32m----> 1\u001b[1;33m neural_net.fit(\n\u001b[0m\u001b[0;32m      2\u001b[0m     \u001b[0mX_train\u001b[0m\u001b[1;33m,\u001b[0m\u001b[1;33m\u001b[0m\u001b[1;33m\u001b[0m\u001b[0m\n\u001b[0;32m      3\u001b[0m     \u001b[0my_train\u001b[0m\u001b[1;33m,\u001b[0m\u001b[1;33m\u001b[0m\u001b[1;33m\u001b[0m\u001b[0m\n\u001b[0;32m      4\u001b[0m     \u001b[0mbatch_size\u001b[0m\u001b[1;33m=\u001b[0m\u001b[1;36m10000\u001b[0m\u001b[1;33m,\u001b[0m\u001b[1;33m\u001b[0m\u001b[1;33m\u001b[0m\u001b[0m\n\u001b[0;32m      5\u001b[0m     \u001b[0mepochs\u001b[0m\u001b[1;33m=\u001b[0m\u001b[1;36m1000\u001b[0m\u001b[1;33m,\u001b[0m\u001b[1;33m\u001b[0m\u001b[1;33m\u001b[0m\u001b[0m\n",
      "\u001b[1;32m~\\anaconda3\\lib\\site-packages\\tensorflow\\python\\keras\\engine\\training.py\u001b[0m in \u001b[0;36m_method_wrapper\u001b[1;34m(self, *args, **kwargs)\u001b[0m\n\u001b[0;32m     64\u001b[0m   \u001b[1;32mdef\u001b[0m \u001b[0m_method_wrapper\u001b[0m\u001b[1;33m(\u001b[0m\u001b[0mself\u001b[0m\u001b[1;33m,\u001b[0m \u001b[1;33m*\u001b[0m\u001b[0margs\u001b[0m\u001b[1;33m,\u001b[0m \u001b[1;33m**\u001b[0m\u001b[0mkwargs\u001b[0m\u001b[1;33m)\u001b[0m\u001b[1;33m:\u001b[0m\u001b[1;33m\u001b[0m\u001b[1;33m\u001b[0m\u001b[0m\n\u001b[0;32m     65\u001b[0m     \u001b[1;32mif\u001b[0m \u001b[1;32mnot\u001b[0m \u001b[0mself\u001b[0m\u001b[1;33m.\u001b[0m\u001b[0m_in_multi_worker_mode\u001b[0m\u001b[1;33m(\u001b[0m\u001b[1;33m)\u001b[0m\u001b[1;33m:\u001b[0m  \u001b[1;31m# pylint: disable=protected-access\u001b[0m\u001b[1;33m\u001b[0m\u001b[1;33m\u001b[0m\u001b[0m\n\u001b[1;32m---> 66\u001b[1;33m       \u001b[1;32mreturn\u001b[0m \u001b[0mmethod\u001b[0m\u001b[1;33m(\u001b[0m\u001b[0mself\u001b[0m\u001b[1;33m,\u001b[0m \u001b[1;33m*\u001b[0m\u001b[0margs\u001b[0m\u001b[1;33m,\u001b[0m \u001b[1;33m**\u001b[0m\u001b[0mkwargs\u001b[0m\u001b[1;33m)\u001b[0m\u001b[1;33m\u001b[0m\u001b[1;33m\u001b[0m\u001b[0m\n\u001b[0m\u001b[0;32m     67\u001b[0m \u001b[1;33m\u001b[0m\u001b[0m\n\u001b[0;32m     68\u001b[0m     \u001b[1;31m# Running inside `run_distribute_coordinator` already.\u001b[0m\u001b[1;33m\u001b[0m\u001b[1;33m\u001b[0m\u001b[1;33m\u001b[0m\u001b[0m\n",
      "\u001b[1;32m~\\anaconda3\\lib\\site-packages\\tensorflow\\python\\keras\\engine\\training.py\u001b[0m in \u001b[0;36mfit\u001b[1;34m(self, x, y, batch_size, epochs, verbose, callbacks, validation_split, validation_data, shuffle, class_weight, sample_weight, initial_epoch, steps_per_epoch, validation_steps, validation_batch_size, validation_freq, max_queue_size, workers, use_multiprocessing, **kwargs)\u001b[0m\n\u001b[0;32m    783\u001b[0m                 batch_size=batch_size):\n\u001b[0;32m    784\u001b[0m               \u001b[0mcallbacks\u001b[0m\u001b[1;33m.\u001b[0m\u001b[0mon_train_batch_begin\u001b[0m\u001b[1;33m(\u001b[0m\u001b[0mstep\u001b[0m\u001b[1;33m)\u001b[0m\u001b[1;33m\u001b[0m\u001b[1;33m\u001b[0m\u001b[0m\n\u001b[1;32m--> 785\u001b[1;33m               \u001b[0mtmp_logs\u001b[0m \u001b[1;33m=\u001b[0m \u001b[0mtrain_function\u001b[0m\u001b[1;33m(\u001b[0m\u001b[0miterator\u001b[0m\u001b[1;33m)\u001b[0m\u001b[1;33m\u001b[0m\u001b[1;33m\u001b[0m\u001b[0m\n\u001b[0m\u001b[0;32m    786\u001b[0m               \u001b[1;31m# Catch OutOfRangeError for Datasets of unknown size.\u001b[0m\u001b[1;33m\u001b[0m\u001b[1;33m\u001b[0m\u001b[1;33m\u001b[0m\u001b[0m\n\u001b[0;32m    787\u001b[0m               \u001b[1;31m# This blocks until the batch has finished executing.\u001b[0m\u001b[1;33m\u001b[0m\u001b[1;33m\u001b[0m\u001b[1;33m\u001b[0m\u001b[0m\n",
      "\u001b[1;32m~\\anaconda3\\lib\\site-packages\\tensorflow\\python\\eager\\def_function.py\u001b[0m in \u001b[0;36m__call__\u001b[1;34m(self, *args, **kwds)\u001b[0m\n\u001b[0;32m    578\u001b[0m         \u001b[0mxla_context\u001b[0m\u001b[1;33m.\u001b[0m\u001b[0mExit\u001b[0m\u001b[1;33m(\u001b[0m\u001b[1;33m)\u001b[0m\u001b[1;33m\u001b[0m\u001b[1;33m\u001b[0m\u001b[0m\n\u001b[0;32m    579\u001b[0m     \u001b[1;32melse\u001b[0m\u001b[1;33m:\u001b[0m\u001b[1;33m\u001b[0m\u001b[1;33m\u001b[0m\u001b[0m\n\u001b[1;32m--> 580\u001b[1;33m       \u001b[0mresult\u001b[0m \u001b[1;33m=\u001b[0m \u001b[0mself\u001b[0m\u001b[1;33m.\u001b[0m\u001b[0m_call\u001b[0m\u001b[1;33m(\u001b[0m\u001b[1;33m*\u001b[0m\u001b[0margs\u001b[0m\u001b[1;33m,\u001b[0m \u001b[1;33m**\u001b[0m\u001b[0mkwds\u001b[0m\u001b[1;33m)\u001b[0m\u001b[1;33m\u001b[0m\u001b[1;33m\u001b[0m\u001b[0m\n\u001b[0m\u001b[0;32m    581\u001b[0m \u001b[1;33m\u001b[0m\u001b[0m\n\u001b[0;32m    582\u001b[0m     \u001b[1;32mif\u001b[0m \u001b[0mtracing_count\u001b[0m \u001b[1;33m==\u001b[0m \u001b[0mself\u001b[0m\u001b[1;33m.\u001b[0m\u001b[0m_get_tracing_count\u001b[0m\u001b[1;33m(\u001b[0m\u001b[1;33m)\u001b[0m\u001b[1;33m:\u001b[0m\u001b[1;33m\u001b[0m\u001b[1;33m\u001b[0m\u001b[0m\n",
      "\u001b[1;32m~\\anaconda3\\lib\\site-packages\\tensorflow\\python\\eager\\def_function.py\u001b[0m in \u001b[0;36m_call\u001b[1;34m(self, *args, **kwds)\u001b[0m\n\u001b[0;32m    609\u001b[0m       \u001b[1;31m# In this case we have created variables on the first call, so we run the\u001b[0m\u001b[1;33m\u001b[0m\u001b[1;33m\u001b[0m\u001b[1;33m\u001b[0m\u001b[0m\n\u001b[0;32m    610\u001b[0m       \u001b[1;31m# defunned version which is guaranteed to never create variables.\u001b[0m\u001b[1;33m\u001b[0m\u001b[1;33m\u001b[0m\u001b[1;33m\u001b[0m\u001b[0m\n\u001b[1;32m--> 611\u001b[1;33m       \u001b[1;32mreturn\u001b[0m \u001b[0mself\u001b[0m\u001b[1;33m.\u001b[0m\u001b[0m_stateless_fn\u001b[0m\u001b[1;33m(\u001b[0m\u001b[1;33m*\u001b[0m\u001b[0margs\u001b[0m\u001b[1;33m,\u001b[0m \u001b[1;33m**\u001b[0m\u001b[0mkwds\u001b[0m\u001b[1;33m)\u001b[0m  \u001b[1;31m# pylint: disable=not-callable\u001b[0m\u001b[1;33m\u001b[0m\u001b[1;33m\u001b[0m\u001b[0m\n\u001b[0m\u001b[0;32m    612\u001b[0m     \u001b[1;32melif\u001b[0m \u001b[0mself\u001b[0m\u001b[1;33m.\u001b[0m\u001b[0m_stateful_fn\u001b[0m \u001b[1;32mis\u001b[0m \u001b[1;32mnot\u001b[0m \u001b[1;32mNone\u001b[0m\u001b[1;33m:\u001b[0m\u001b[1;33m\u001b[0m\u001b[1;33m\u001b[0m\u001b[0m\n\u001b[0;32m    613\u001b[0m       \u001b[1;31m# Release the lock early so that multiple threads can perform the call\u001b[0m\u001b[1;33m\u001b[0m\u001b[1;33m\u001b[0m\u001b[1;33m\u001b[0m\u001b[0m\n",
      "\u001b[1;32m~\\anaconda3\\lib\\site-packages\\tensorflow\\python\\eager\\function.py\u001b[0m in \u001b[0;36m__call__\u001b[1;34m(self, *args, **kwargs)\u001b[0m\n\u001b[0;32m   2418\u001b[0m     \u001b[1;32mwith\u001b[0m \u001b[0mself\u001b[0m\u001b[1;33m.\u001b[0m\u001b[0m_lock\u001b[0m\u001b[1;33m:\u001b[0m\u001b[1;33m\u001b[0m\u001b[1;33m\u001b[0m\u001b[0m\n\u001b[0;32m   2419\u001b[0m       \u001b[0mgraph_function\u001b[0m\u001b[1;33m,\u001b[0m \u001b[0margs\u001b[0m\u001b[1;33m,\u001b[0m \u001b[0mkwargs\u001b[0m \u001b[1;33m=\u001b[0m \u001b[0mself\u001b[0m\u001b[1;33m.\u001b[0m\u001b[0m_maybe_define_function\u001b[0m\u001b[1;33m(\u001b[0m\u001b[0margs\u001b[0m\u001b[1;33m,\u001b[0m \u001b[0mkwargs\u001b[0m\u001b[1;33m)\u001b[0m\u001b[1;33m\u001b[0m\u001b[1;33m\u001b[0m\u001b[0m\n\u001b[1;32m-> 2420\u001b[1;33m     \u001b[1;32mreturn\u001b[0m \u001b[0mgraph_function\u001b[0m\u001b[1;33m.\u001b[0m\u001b[0m_filtered_call\u001b[0m\u001b[1;33m(\u001b[0m\u001b[0margs\u001b[0m\u001b[1;33m,\u001b[0m \u001b[0mkwargs\u001b[0m\u001b[1;33m)\u001b[0m  \u001b[1;31m# pylint: disable=protected-access\u001b[0m\u001b[1;33m\u001b[0m\u001b[1;33m\u001b[0m\u001b[0m\n\u001b[0m\u001b[0;32m   2421\u001b[0m \u001b[1;33m\u001b[0m\u001b[0m\n\u001b[0;32m   2422\u001b[0m   \u001b[1;33m@\u001b[0m\u001b[0mproperty\u001b[0m\u001b[1;33m\u001b[0m\u001b[1;33m\u001b[0m\u001b[0m\n",
      "\u001b[1;32m~\\anaconda3\\lib\\site-packages\\tensorflow\\python\\eager\\function.py\u001b[0m in \u001b[0;36m_filtered_call\u001b[1;34m(self, args, kwargs)\u001b[0m\n\u001b[0;32m   1659\u001b[0m       \u001b[0;31m`\u001b[0m\u001b[0margs\u001b[0m\u001b[0;31m`\u001b[0m \u001b[1;32mand\u001b[0m\u001b[0;31m \u001b[0m\u001b[0;31m`\u001b[0m\u001b[0mkwargs\u001b[0m\u001b[0;31m`\u001b[0m\u001b[1;33m.\u001b[0m\u001b[1;33m\u001b[0m\u001b[1;33m\u001b[0m\u001b[0m\n\u001b[0;32m   1660\u001b[0m     \"\"\"\n\u001b[1;32m-> 1661\u001b[1;33m     return self._call_flat(\n\u001b[0m\u001b[0;32m   1662\u001b[0m         (t for t in nest.flatten((args, kwargs), expand_composites=True)\n\u001b[0;32m   1663\u001b[0m          if isinstance(t, (ops.Tensor,\n",
      "\u001b[1;32m~\\anaconda3\\lib\\site-packages\\tensorflow\\python\\eager\\function.py\u001b[0m in \u001b[0;36m_call_flat\u001b[1;34m(self, args, captured_inputs, cancellation_manager)\u001b[0m\n\u001b[0;32m   1743\u001b[0m         and executing_eagerly):\n\u001b[0;32m   1744\u001b[0m       \u001b[1;31m# No tape is watching; skip to running the function.\u001b[0m\u001b[1;33m\u001b[0m\u001b[1;33m\u001b[0m\u001b[1;33m\u001b[0m\u001b[0m\n\u001b[1;32m-> 1745\u001b[1;33m       return self._build_call_outputs(self._inference_function.call(\n\u001b[0m\u001b[0;32m   1746\u001b[0m           ctx, args, cancellation_manager=cancellation_manager))\n\u001b[0;32m   1747\u001b[0m     forward_backward = self._select_forward_and_backward_functions(\n",
      "\u001b[1;32m~\\anaconda3\\lib\\site-packages\\tensorflow\\python\\eager\\function.py\u001b[0m in \u001b[0;36mcall\u001b[1;34m(self, ctx, args, cancellation_manager)\u001b[0m\n\u001b[0;32m    591\u001b[0m       \u001b[1;32mwith\u001b[0m \u001b[0m_InterpolateFunctionError\u001b[0m\u001b[1;33m(\u001b[0m\u001b[0mself\u001b[0m\u001b[1;33m)\u001b[0m\u001b[1;33m:\u001b[0m\u001b[1;33m\u001b[0m\u001b[1;33m\u001b[0m\u001b[0m\n\u001b[0;32m    592\u001b[0m         \u001b[1;32mif\u001b[0m \u001b[0mcancellation_manager\u001b[0m \u001b[1;32mis\u001b[0m \u001b[1;32mNone\u001b[0m\u001b[1;33m:\u001b[0m\u001b[1;33m\u001b[0m\u001b[1;33m\u001b[0m\u001b[0m\n\u001b[1;32m--> 593\u001b[1;33m           outputs = execute.execute(\n\u001b[0m\u001b[0;32m    594\u001b[0m               \u001b[0mstr\u001b[0m\u001b[1;33m(\u001b[0m\u001b[0mself\u001b[0m\u001b[1;33m.\u001b[0m\u001b[0msignature\u001b[0m\u001b[1;33m.\u001b[0m\u001b[0mname\u001b[0m\u001b[1;33m)\u001b[0m\u001b[1;33m,\u001b[0m\u001b[1;33m\u001b[0m\u001b[1;33m\u001b[0m\u001b[0m\n\u001b[0;32m    595\u001b[0m               \u001b[0mnum_outputs\u001b[0m\u001b[1;33m=\u001b[0m\u001b[0mself\u001b[0m\u001b[1;33m.\u001b[0m\u001b[0m_num_outputs\u001b[0m\u001b[1;33m,\u001b[0m\u001b[1;33m\u001b[0m\u001b[1;33m\u001b[0m\u001b[0m\n",
      "\u001b[1;32m~\\anaconda3\\lib\\site-packages\\tensorflow\\python\\eager\\execute.py\u001b[0m in \u001b[0;36mquick_execute\u001b[1;34m(op_name, num_outputs, inputs, attrs, ctx, name)\u001b[0m\n\u001b[0;32m     57\u001b[0m   \u001b[1;32mtry\u001b[0m\u001b[1;33m:\u001b[0m\u001b[1;33m\u001b[0m\u001b[1;33m\u001b[0m\u001b[0m\n\u001b[0;32m     58\u001b[0m     \u001b[0mctx\u001b[0m\u001b[1;33m.\u001b[0m\u001b[0mensure_initialized\u001b[0m\u001b[1;33m(\u001b[0m\u001b[1;33m)\u001b[0m\u001b[1;33m\u001b[0m\u001b[1;33m\u001b[0m\u001b[0m\n\u001b[1;32m---> 59\u001b[1;33m     tensors = pywrap_tfe.TFE_Py_Execute(ctx._handle, device_name, op_name,\n\u001b[0m\u001b[0;32m     60\u001b[0m                                         inputs, attrs, num_outputs)\n\u001b[0;32m     61\u001b[0m   \u001b[1;32mexcept\u001b[0m \u001b[0mcore\u001b[0m\u001b[1;33m.\u001b[0m\u001b[0m_NotOkStatusException\u001b[0m \u001b[1;32mas\u001b[0m \u001b[0me\u001b[0m\u001b[1;33m:\u001b[0m\u001b[1;33m\u001b[0m\u001b[1;33m\u001b[0m\u001b[0m\n",
      "\u001b[1;31mKeyboardInterrupt\u001b[0m: "
     ]
    }
   ],
   "source": [
    "neural_net.fit(\n",
    "    X_train,\n",
    "    y_train,\n",
    "    batch_size=10000, \n",
    "    epochs=1000, \n",
    "    validation_data = (X_valid, y_valid),\n",
    "    callbacks=cb,\n",
    "    verbose=1)"
   ]
  },
  {
   "cell_type": "code",
   "execution_count": 93,
   "metadata": {},
   "outputs": [
    {
     "data": {
      "image/png": "[encoded data removed]",
      "text/plain": [
       "<Figure size 432x288 with 1 Axes>"
      ]
     },
     "metadata": {
      "needs_background": "light"
     },
     "output_type": "display_data"
    }
   ],
   "source": [
    "plot_history(neural_net, 20)"
   ]
  },
  {
   "cell_type": "markdown",
   "metadata": {},
   "source": [
    "### Test model"
   ]
  },
  {
   "cell_type": "code",
   "execution_count": 94,
   "metadata": {},
   "outputs": [
    {
     "data": {
      "text/plain": [
       "array([[23.990229]], dtype=float32)"
      ]
     },
     "execution_count": 94,
     "metadata": {},
     "output_type": "execute_result"
    }
   ],
   "source": [
    "neural_net.predict([[-3, -8]])"
   ]
  },
  {
   "cell_type": "markdown",
   "metadata": {},
   "source": [
    "### Extrapolation with numbers outside [-10, 10]?"
   ]
  },
  {
   "cell_type": "code",
   "execution_count": 95,
   "metadata": {},
   "outputs": [
    {
     "data": {
      "text/plain": [
       "array([[-0.78042775]], dtype=float32)"
      ]
     },
     "execution_count": 95,
     "metadata": {},
     "output_type": "execute_result"
    }
   ],
   "source": [
    "neural_net.predict([[4, 40]])"
   ]
  },
  {
   "cell_type": "markdown",
   "metadata": {},
   "source": [
    "The model works, but only within the range of samples available. Extrapolation is not possible without manual feature engineering."
   ]
  },
  {
   "cell_type": "markdown",
   "metadata": {},
   "source": [
    "## Gradient boosting"
   ]
  },
  {
   "cell_type": "markdown",
   "metadata": {},
   "source": [
    "Neural nets are especially successful with text, image, and sound data. For tabular data, other methods like gradient boosting are often better and easier to use. Hoever, since the normal person has never heard of GLMs, random forests or gradient boosting, it is easier to mention neural nets if someone asks about what we do...\n",
    "\n",
    "Here, we fit a [LightGBM model](https://lightgbm.readthedocs.io/en/latest), a gradient boosting algorithm implementation by Microsoft."
   ]
  },
  {
   "cell_type": "code",
   "execution_count": 96,
   "metadata": {},
   "outputs": [
    {
     "name": "stdout",
     "output_type": "stream",
     "text": [
      "Training until validation scores don't improve for 20 rounds\n",
      "[100]\tvalid_0's l2: 1.23496\n",
      "[200]\tvalid_0's l2: 1.12553\n",
      "[300]\tvalid_0's l2: 1.09257\n",
      "[400]\tvalid_0's l2: 1.07608\n",
      "[500]\tvalid_0's l2: 1.06854\n",
      "[600]\tvalid_0's l2: 1.06417\n",
      "[700]\tvalid_0's l2: 1.06178\n",
      "[800]\tvalid_0's l2: 1.06043\n",
      "Early stopping, best iteration is:\n",
      "[876]\tvalid_0's l2: 1.05976\n"
     ]
    }
   ],
   "source": [
    "import lightgbm as lgb\n",
    "\n",
    "# Internal data handler\n",
    "dtrain = lgb.Dataset(X_train, y_train)\n",
    "dvalid = lgb.Dataset(X_valid, y_valid)\n",
    "\n",
    "# Parameters\n",
    "params = {\n",
    "    'learning_rate': 0.2,\n",
    "    'num_leaves': 63,\n",
    "    'min_child_samples': 10,\n",
    "    'objective': 'mse'\n",
    "}\n",
    "\n",
    "# Fit until validation performance starts to deteriorate\n",
    "fit = lgb.train(\n",
    "    params, \n",
    "    train_set=dtrain,\n",
    "    early_stopping_rounds=20,\n",
    "    num_boost_round=10000,\n",
    "    valid_sets=dvalid,\n",
    "    verbose_eval=100\n",
    ")"
   ]
  },
  {
   "cell_type": "code",
   "execution_count": 97,
   "metadata": {},
   "outputs": [
    {
     "data": {
      "text/plain": [
       "array([24.15381159])"
      ]
     },
     "execution_count": 97,
     "metadata": {},
     "output_type": "execute_result"
    }
   ],
   "source": [
    "fit.predict([[-3, -8]])"
   ]
  },
  {
   "cell_type": "markdown",
   "metadata": {},
   "source": [
    "### Extrapolation with numbers outside [-10, 10]?"
   ]
  },
  {
   "cell_type": "code",
   "execution_count": 72,
   "metadata": {},
   "outputs": [
    {
     "data": {
      "text/plain": [
       "array([29.82848241])"
      ]
     },
     "execution_count": 72,
     "metadata": {},
     "output_type": "execute_result"
    }
   ],
   "source": [
    "fit.predict([[20, 3]])"
   ]
  },
  {
   "cell_type": "markdown",
   "metadata": {},
   "source": [
    "## Why is reality trickier?\n",
    "- More than two input variables\n",
    "- Missing values\n",
    "- Outliers or data errors\n",
    "- Special data structure (clusters, time series, spatial, ...)\n",
    "- Extrapolation"
   ]
  },
  {
   "cell_type": "code",
   "execution_count": null,
   "metadata": {},
   "outputs": [],
   "source": []
  }
 ],
 "metadata": {
  "kernelspec": {
   "display_name": "Python 3",
   "language": "python",
   "name": "python3"
  },
  "language_info": {
   "codemirror_mode": {
    "name": "ipython",
    "version": 3
   },
   "file_extension": ".py",
   "mimetype": "text/x-python",
   "name": "python",
   "nbconvert_exporter": "python",
   "pygments_lexer": "ipython3",
   "version": "3.8.3"
  }
 },
 "nbformat": 4,
 "nbformat_minor": 4
}
