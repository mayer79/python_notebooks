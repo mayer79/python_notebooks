{
 "cells": [
  {
   "cell_type": "markdown",
   "metadata": {},
   "source": [
    "# Dear ML Model: what is 2 x 3?"
   ]
  },
  {
   "cell_type": "markdown",
   "metadata": {},
   "source": [
    "This notebook shows how ML models can learn to approximately multiply two numbers, even when the training data is noisy.\n",
    "\n",
    "### Basics\n",
    "\n",
    "A typical ML task is to estimate a function $f$ \n",
    "$$\n",
    "    y = f(x_1, x_2, \\dots) + \\varepsilon\n",
    "$$\n",
    "as good as possible by $\\hat f$ from data. Afterward, we can use $\\hat f$ to \n",
    "\n",
    "- gain insights on the relationship between $x_i$ and $y$ and\n",
    "- to make predictions based on $x_i$.\n",
    "\n",
    "The specific steps to find $\\hat f$ depend on the assumed structural form of $f$ and the optimization algorithm used to determine $\\hat f$. \n",
    "\n",
    "### Some examples\n",
    "\n",
    "- **Linear regression**: $f$ is assumed to be linear in its parameters and $\\hat f$ is found by least-squares.\n",
    "- **Generalized linear model**: $g(f)$ is linear and $\\hat f$ is found by iteratively reweighted least-squares.\n",
    "- **Neural net**: $f$ is a composition of linear and non-linear functions, found by gradient descent.\n",
    "- **Decision tree**: $f$ is a binary decision tree, i.e. a collection of yes/no questions calculated by recursion.\n",
    "- **Random forest**: $f$ is the average of randomized decision trees.\n",
    "- **Gradient boosting**: $f$ is the average of decision trees, calculated sequentially. Each tree tries to fix the mistakes of the previous ones.\n",
    "\n",
    "### Outlook\n",
    "\n",
    "In this notebook, we will use neural nets and gradient boosting to learn noisy multiplication of two numbers $x_1$ and $x_2$, i.e.\n",
    "$$\n",
    "    y = f(x_1, x_2) + \\varepsilon = x_1 \\cdot x_2 + \\varepsilon, \n",
    "$$\n",
    "with $\\varepsilon\\sim N(0,1)$."
   ]
  },
  {
   "cell_type": "markdown",
   "metadata": {},
   "source": [
    "## Generate noisy data\n",
    "\n",
    "Let's generate one million independent observations of above random process."
   ]
  },
  {
   "cell_type": "code",
   "execution_count": 1,
   "metadata": {},
   "outputs": [],
   "source": [
    "# Load modules\n",
    "import numpy as np\n",
    "import pandas as pd\n",
    "\n",
    "import matplotlib.pyplot as plt\n",
    "%matplotlib inline\n",
    "\n",
    "import warnings\n",
    "warnings.simplefilter('ignore')"
   ]
  },
  {
   "cell_type": "code",
   "execution_count": 3,
   "metadata": {},
   "outputs": [
    {
     "data": {
      "text/html": [
       "<div>\n",
       "<style scoped>\n",
       "    .dataframe tbody tr th:only-of-type {\n",
       "        vertical-align: middle;\n",
       "    }\n",
       "\n",
       "    .dataframe tbody tr th {\n",
       "        vertical-align: top;\n",
       "    }\n",
       "\n",
       "    .dataframe thead th {\n",
       "        text-align: right;\n",
       "    }\n",
       "</style>\n",
       "<table border=\"1\" class=\"dataframe\">\n",
       "  <thead>\n",
       "    <tr style=\"text-align: right;\">\n",
       "      <th></th>\n",
       "      <th>x1</th>\n",
       "      <th>x2</th>\n",
       "      <th>y</th>\n",
       "    </tr>\n",
       "  </thead>\n",
       "  <tbody>\n",
       "    <tr>\n",
       "      <th>0</th>\n",
       "      <td>-1.427959</td>\n",
       "      <td>-0.909703</td>\n",
       "      <td>2.914672</td>\n",
       "    </tr>\n",
       "    <tr>\n",
       "      <th>1</th>\n",
       "      <td>2.521623</td>\n",
       "      <td>-3.973049</td>\n",
       "      <td>-9.736590</td>\n",
       "    </tr>\n",
       "    <tr>\n",
       "      <th>2</th>\n",
       "      <td>1.307314</td>\n",
       "      <td>-1.002808</td>\n",
       "      <td>-1.534397</td>\n",
       "    </tr>\n",
       "    <tr>\n",
       "      <th>3</th>\n",
       "      <td>-6.998346</td>\n",
       "      <td>-0.479178</td>\n",
       "      <td>3.621836</td>\n",
       "    </tr>\n",
       "    <tr>\n",
       "      <th>4</th>\n",
       "      <td>-5.852353</td>\n",
       "      <td>-1.723083</td>\n",
       "      <td>10.453152</td>\n",
       "    </tr>\n",
       "  </tbody>\n",
       "</table>\n",
       "</div>"
      ],
      "text/plain": [
       "         x1        x2          y\n",
       "0 -1.427959 -0.909703   2.914672\n",
       "1  2.521623 -3.973049  -9.736590\n",
       "2  1.307314 -1.002808  -1.534397\n",
       "3 -6.998346 -0.479178   3.621836\n",
       "4 -5.852353 -1.723083  10.453152"
      ]
     },
     "execution_count": 3,
     "metadata": {},
     "output_type": "execute_result"
    },
    {
     "data": {
      "image/png": "[encoded data removed]",
      "text/plain": [
       "<Figure size 1080x288 with 3 Axes>"
      ]
     },
     "metadata": {
      "needs_background": "light"
     },
     "output_type": "display_data"
    }
   ],
   "source": [
    "# Generate n observations\n",
    "np.random.seed(1901)\n",
    "n = 1_000_000 # 10_000_000\n",
    "\n",
    "df = pd.DataFrame(np.random.uniform(-10, 10, size=(n, 2)), \n",
    "                  columns=['x1', 'x2'])\n",
    "df['y'] = df.x1 * df.x2 + np.random.normal(scale=1, size=(n, ))\n",
    "\n",
    "# Visualize\n",
    "df.hist(bins=100, layout=(1, 3), figsize=(15, 4))\n",
    "df.head()"
   ]
  },
  {
   "cell_type": "markdown",
   "metadata": {},
   "source": [
    "### Training/Validation split"
   ]
  },
  {
   "cell_type": "code",
   "execution_count": 4,
   "metadata": {},
   "outputs": [],
   "source": [
    "from sklearn.model_selection import train_test_split\n",
    "\n",
    "X_train, X_valid, y_train, y_valid = train_test_split(\n",
    "    df.drop('y', axis=1), \n",
    "    df['y'], \n",
    "    train_size=0.9, \n",
    "    random_state=525\n",
    ")"
   ]
  },
  {
   "cell_type": "markdown",
   "metadata": {},
   "source": [
    "## Neural Net\n",
    "\n",
    "Can a neural net predict the result of the (noisy) multiplication $y$ given $x_1$ and $x_2$?\n",
    "\n",
    "We start with the most simple neural net (no hidden layers) and then, step by step, add more neurons and/or more hidden layers. \n",
    "To do so, we rely on Google's [Keras/Tensorflow](https://www.tensorflow.org/guide/keras/sequential_model?hl=en).\n",
    "\n",
    "It is up to you, dear user, to select the specific architecture. "
   ]
  },
  {
   "cell_type": "code",
   "execution_count": 5,
   "metadata": {},
   "outputs": [],
   "source": [
    "import tensorflow as tf\n",
    "import tensorflow.keras as keras\n",
    "from tensorflow.keras import Model\n",
    "from tensorflow.keras.layers import Dense, Input\n",
    "from tensorflow.keras.callbacks import EarlyStopping, ReduceLROnPlateau\n",
    "from tensorflow.keras.optimizers import Nadam\n",
    "\n",
    "# Plot history (dropping the first m burn-in epochs)\n",
    "def plot_history(h, drop_m=0):\n",
    "    h = pd.DataFrame(h.history.history)\n",
    "    h['epoch'] = np.arange(len(h.index)) + 1\n",
    "    h = h.iloc[drop_m:]\n",
    "    plt.plot(h.epoch, h.loss, label='Training')\n",
    "    plt.plot(h.epoch, h.val_loss, label='Validation')\n",
    "    plt.legend()\n",
    "    \n",
    "# Callbacks\n",
    "early_stop = EarlyStopping(patience=10, mode='min')\n",
    "reduce_lr = ReduceLROnPlateau(patience=5, factor=0.2)\n",
    "cb = [early_stop, reduce_lr]"
   ]
  },
  {
   "cell_type": "markdown",
   "metadata": {},
   "source": [
    "### Architecture"
   ]
  },
  {
   "cell_type": "code",
   "execution_count": 23,
   "metadata": {},
   "outputs": [
    {
     "name": "stdout",
     "output_type": "stream",
     "text": [
      "Model: \"model_4\"\n",
      "_________________________________________________________________\n",
      "Layer (type)                 Output Shape              Param #   \n",
      "=================================================================\n",
      "input_5 (InputLayer)         [(None, 2)]               0         \n",
      "_________________________________________________________________\n",
      "dense_6 (Dense)              (None, 20)                60        \n",
      "_________________________________________________________________\n",
      "dense_7 (Dense)              (None, 1)                 21        \n",
      "=================================================================\n",
      "Total params: 81\n",
      "Trainable params: 81\n",
      "Non-trainable params: 0\n",
      "_________________________________________________________________\n"
     ]
    }
   ],
   "source": [
    "# Neural net structure (play with architecture)\n",
    "def fresh_neural_net():\n",
    "    inputs = Input(shape=(2, ))\n",
    "    x = Dense(20, activation='tanh')(inputs)\n",
    "    output = Dense(1, activation='linear')(x)\n",
    "    m = Model(inputs=inputs, outputs=output)\n",
    "    m.compile(loss='mse', optimizer=Nadam(lr=0.05))\n",
    "    return m\n",
    "\n",
    "# Create new net\n",
    "neural_net = fresh_neural_net()\n",
    "neural_net.summary()"
   ]
  },
  {
   "cell_type": "markdown",
   "metadata": {},
   "source": [
    "### Stochastic gradient descend until performance stops improving"
   ]
  },
  {
   "cell_type": "code",
   "execution_count": 24,
   "metadata": {},
   "outputs": [
    {
     "data": {
      "text/plain": [
       "<tensorflow.python.keras.callbacks.History at 0x11fb5ac5cd0>"
      ]
     },
     "execution_count": 24,
     "metadata": {},
     "output_type": "execute_result"
    }
   ],
   "source": [
    "neural_net.fit(\n",
    "    X_train,\n",
    "    y_train,\n",
    "    batch_size=10000, \n",
    "    epochs=1000, \n",
    "    validation_data = (X_valid, y_valid),\n",
    "    callbacks=cb,\n",
    "    verbose=0\n",
    ")"
   ]
  },
  {
   "cell_type": "code",
   "execution_count": 26,
   "metadata": {},
   "outputs": [
    {
     "data": {
      "image/png": "[encoded data removed]",
      "text/plain": [
       "<Figure size 432x288 with 1 Axes>"
      ]
     },
     "metadata": {
      "needs_background": "light"
     },
     "output_type": "display_data"
    }
   ],
   "source": [
    "plot_history(neural_net, 20)"
   ]
  },
  {
   "cell_type": "markdown",
   "metadata": {},
   "source": [
    "### Test model"
   ]
  },
  {
   "cell_type": "code",
   "execution_count": null,
   "metadata": {},
   "outputs": [],
   "source": [
    "neural_net.predict([[-3, -8]])"
   ]
  },
  {
   "cell_type": "markdown",
   "metadata": {},
   "source": [
    "### Extrapolation with numbers outside [-10, 10]?"
   ]
  },
  {
   "cell_type": "code",
   "execution_count": null,
   "metadata": {},
   "outputs": [],
   "source": [
    "neural_net.predict([[4, 40]])"
   ]
  },
  {
   "cell_type": "markdown",
   "metadata": {},
   "source": [
    "The model works, but only within the range of samples available. Extrapolation is not possible without clever \"feature engineering\"."
   ]
  },
  {
   "cell_type": "markdown",
   "metadata": {},
   "source": [
    "## Gradient boosting"
   ]
  },
  {
   "cell_type": "markdown",
   "metadata": {},
   "source": [
    "Neural nets are especially successful with text, image, and sound data. For tabular data, other methods like gradient boosting are often better and easier to use. However, since the normal person has never heard of gradient boosting, it is easier to mention neural nets if someone asks about what we do...\n",
    "\n",
    "Here, we fit a [LightGBM model](https://lightgbm.readthedocs.io/en/latest), an increadible gradient boosting algorithm implementation by Microsoft."
   ]
  },
  {
   "cell_type": "code",
   "execution_count": 6,
   "metadata": {},
   "outputs": [
    {
     "name": "stdout",
     "output_type": "stream",
     "text": [
      "Training until validation scores don't improve for 50 rounds\n",
      "[100]\tvalid_0's l2: 1.2256\n",
      "[200]\tvalid_0's l2: 1.12182\n",
      "[300]\tvalid_0's l2: 1.08861\n",
      "[400]\tvalid_0's l2: 1.07206\n",
      "[500]\tvalid_0's l2: 1.06404\n",
      "[600]\tvalid_0's l2: 1.05984\n",
      "[700]\tvalid_0's l2: 1.05757\n",
      "[800]\tvalid_0's l2: 1.05609\n",
      "[900]\tvalid_0's l2: 1.05538\n",
      "[1000]\tvalid_0's l2: 1.05505\n",
      "[1100]\tvalid_0's l2: 1.0548\n",
      "[1200]\tvalid_0's l2: 1.05462\n",
      "Early stopping, best iteration is:\n",
      "[1181]\tvalid_0's l2: 1.05457\n"
     ]
    }
   ],
   "source": [
    "import lightgbm as lgb\n",
    "\n",
    "# Internal data handler\n",
    "dtrain = lgb.Dataset(X_train, y_train)\n",
    "dvalid = lgb.Dataset(X_valid, y_valid)\n",
    "\n",
    "# Parameters\n",
    "params = {\n",
    "    'learning_rate': 0.2,\n",
    "    'num_leaves': 63,\n",
    "    'min_child_samples': 100,\n",
    "    'objective': 'mse'\n",
    "}\n",
    "\n",
    "# Fit until validation performance starts to deteriorate\n",
    "fit = lgb.train(\n",
    "    params, \n",
    "    train_set=dtrain,\n",
    "    early_stopping_rounds=50,\n",
    "    num_boost_round=10000,\n",
    "    valid_sets=dvalid,\n",
    "    verbose_eval=100\n",
    ")"
   ]
  },
  {
   "cell_type": "code",
   "execution_count": null,
   "metadata": {},
   "outputs": [],
   "source": [
    "fit.predict([[-3, -8]])"
   ]
  },
  {
   "cell_type": "markdown",
   "metadata": {},
   "source": [
    "### Extrapolation with numbers outside [-10, 10]?"
   ]
  },
  {
   "cell_type": "code",
   "execution_count": null,
   "metadata": {},
   "outputs": [],
   "source": [
    "fit.predict([[20, 3]])"
   ]
  },
  {
   "cell_type": "markdown",
   "metadata": {},
   "source": [
    "## Why is reality trickier?\n",
    "- More than two input variables\n",
    "- Missing values\n",
    "- Data errors and gross outliers\n",
    "- Special data structure (clusters, time series, spatial, ...)\n",
    "- Extrapolation\n",
    "- Explainability"
   ]
  },
  {
   "cell_type": "code",
   "execution_count": null,
   "metadata": {},
   "outputs": [],
   "source": []
  }
 ],
 "metadata": {
  "kernelspec": {
   "display_name": "Python 3",
   "language": "python",
   "name": "python3"
  },
  "language_info": {
   "codemirror_mode": {
    "name": "ipython",
    "version": 3
   },
   "file_extension": ".py",
   "mimetype": "text/x-python",
   "name": "python",
   "nbconvert_exporter": "python",
   "pygments_lexer": "ipython3",
   "version": "3.8.3"
  }
 },
 "nbformat": 4,
 "nbformat_minor": 4
}
