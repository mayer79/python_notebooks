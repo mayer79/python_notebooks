{
 "cells": [
  {
   "cell_type": "markdown",
   "metadata": {},
   "source": [
    "# Dear ML Model, Please Multiply"
   ]
  },
  {
   "cell_type": "markdown",
   "metadata": {},
   "source": [
    "This notebook shows how ML models can learn to approximately multiply two numbers, even when the data is noisy.\n",
    "\n",
    "### Basics\n",
    "\n",
    "A typical ML task is to estimate a function $f$ \n",
    "$$\n",
    "    y = f(x_1, x_2, \\dots) + \\varepsilon\n",
    "$$\n",
    "as good as possible by $\\hat f$ from data. Afterward, we can use $\\hat f$ to \n",
    "\n",
    "- gain insights on the relationship between $x_i$ and $y$ and\n",
    "- to make predictions based on $x_i$.\n",
    "\n",
    "The specific steps to find $\\hat f$ depend on the assumed structural form of $f$ and the optimization algorithm used to determine $\\hat f$. \n",
    "\n",
    "### Some examples\n",
    "\n",
    "- **Linear regression**: $f$ is assumed to be linear in its parameters and $\\hat f$ is found by least-squares.\n",
    "- **Generalized linear model**: $g(f)$ is linear and $\\hat f$ is found by iteratively reweighted least-squares.\n",
    "- **Neural net**: $f$ is a composition of linear and non-linear functions, found by auto-differentiation-based gradient descent.\n",
    "- **Decision tree**: $f$ is a binary decision tree, i.e. a collection of yes/no questions calculated by recursion.\n",
    "- **Random forest**: $f$ is the average of randomized decision trees.\n",
    "- **Gradient boosting**: $f$ is the average of decision trees, calculated sequentially. Each tree tries to fix the mistakes of the previous ones.\n",
    "\n",
    "### Outlook\n",
    "\n",
    "In this notebook, we will use neural nets and gradient boosting to learn noisy multiplication of two numbers $x_1$ and $x_2$, i.e.\n",
    "$$\n",
    "    y = f(x_1, x_2) + \\varepsilon = x_1 \\cdot x_2 + \\varepsilon, \n",
    "$$\n",
    "with $\\varepsilon\\sim N(0,1)$."
   ]
  },
  {
   "cell_type": "markdown",
   "metadata": {},
   "source": [
    "## Generate noisy data\n",
    "\n",
    "Let's generate one million independent observations of above random process."
   ]
  },
  {
   "cell_type": "code",
   "execution_count": 1,
   "metadata": {},
   "outputs": [],
   "source": [
    "# Load modules\n",
    "import numpy as np\n",
    "import pandas as pd\n",
    "\n",
    "import matplotlib.pyplot as plt\n",
    "%matplotlib inline\n",
    "\n",
    "import warnings\n",
    "warnings.simplefilter('ignore')"
   ]
  },
  {
   "cell_type": "code",
   "execution_count": 2,
   "metadata": {},
   "outputs": [
    {
     "data": {
      "text/html": [
       "<div>\n",
       "<style scoped>\n",
       "    .dataframe tbody tr th:only-of-type {\n",
       "        vertical-align: middle;\n",
       "    }\n",
       "\n",
       "    .dataframe tbody tr th {\n",
       "        vertical-align: top;\n",
       "    }\n",
       "\n",
       "    .dataframe thead th {\n",
       "        text-align: right;\n",
       "    }\n",
       "</style>\n",
       "<table border=\"1\" class=\"dataframe\">\n",
       "  <thead>\n",
       "    <tr style=\"text-align: right;\">\n",
       "      <th></th>\n",
       "      <th>x1</th>\n",
       "      <th>x2</th>\n",
       "      <th>y</th>\n",
       "    </tr>\n",
       "  </thead>\n",
       "  <tbody>\n",
       "    <tr>\n",
       "      <th>0</th>\n",
       "      <td>-1.427959</td>\n",
       "      <td>-0.909703</td>\n",
       "      <td>2.914672</td>\n",
       "    </tr>\n",
       "    <tr>\n",
       "      <th>1</th>\n",
       "      <td>2.521623</td>\n",
       "      <td>-3.973049</td>\n",
       "      <td>-9.736590</td>\n",
       "    </tr>\n",
       "    <tr>\n",
       "      <th>2</th>\n",
       "      <td>1.307314</td>\n",
       "      <td>-1.002808</td>\n",
       "      <td>-1.534397</td>\n",
       "    </tr>\n",
       "    <tr>\n",
       "      <th>3</th>\n",
       "      <td>-6.998346</td>\n",
       "      <td>-0.479178</td>\n",
       "      <td>3.621836</td>\n",
       "    </tr>\n",
       "    <tr>\n",
       "      <th>4</th>\n",
       "      <td>-5.852353</td>\n",
       "      <td>-1.723083</td>\n",
       "      <td>10.453152</td>\n",
       "    </tr>\n",
       "  </tbody>\n",
       "</table>\n",
       "</div>"
      ],
      "text/plain": [
       "         x1        x2          y\n",
       "0 -1.427959 -0.909703   2.914672\n",
       "1  2.521623 -3.973049  -9.736590\n",
       "2  1.307314 -1.002808  -1.534397\n",
       "3 -6.998346 -0.479178   3.621836\n",
       "4 -5.852353 -1.723083  10.453152"
      ]
     },
     "execution_count": 2,
     "metadata": {},
     "output_type": "execute_result"
    },
    {
     "data": {
      "image/png": "[encoded data removed]",
      "text/plain": [
       "<Figure size 1080x288 with 3 Axes>"
      ]
     },
     "metadata": {
      "needs_background": "light"
     },
     "output_type": "display_data"
    }
   ],
   "source": [
    "# Gernerate n observations\n",
    "np.random.seed(1901)\n",
    "n = 1_000_000 # 10_000_000\n",
    "df = pd.DataFrame(np.random.uniform(-10, 10, size=(n, 2)), columns=['x1', 'x2'])\n",
    "df['y'] = df.x1 * df.x2 + np.random.normal(scale=1, size=(n, ))\n",
    "df.hist(bins=100, layout=(1, 3), figsize=(15, 4))\n",
    "df.head()"
   ]
  },
  {
   "cell_type": "markdown",
   "metadata": {},
   "source": [
    "### Training/Validation split"
   ]
  },
  {
   "cell_type": "code",
   "execution_count": 3,
   "metadata": {},
   "outputs": [],
   "source": [
    "from sklearn.model_selection import train_test_split\n",
    "\n",
    "X_train, X_valid, y_train, y_valid = train_test_split(\n",
    "    df.drop('y', axis=1), \n",
    "    df.y, \n",
    "    train_size=0.9, \n",
    "    random_state=525\n",
    ")"
   ]
  },
  {
   "cell_type": "markdown",
   "metadata": {},
   "source": [
    "## Neural Net\n",
    "\n",
    "Can a neural net predict the result of the (noisy) multiplication if it fed the two inputs?\n",
    "\n",
    "We start with the most simple neural net (no hidden layers) and then, step by step, add more neurons and/or more hidden layers. \n",
    "To do so, we rely on Google's [Keras/Tensorflow](https://www.tensorflow.org/guide/keras/sequential_model?hl=en).\n",
    "\n",
    "It is up to you, dear user, to select the specific architecture. "
   ]
  },
  {
   "cell_type": "code",
   "execution_count": 4,
   "metadata": {},
   "outputs": [],
   "source": [
    "import tensorflow as tf\n",
    "import tensorflow.keras as keras\n",
    "from tensorflow.keras.layers import Dense\n",
    "\n",
    "# Plot history (dropping the first m burn-in epochs)\n",
    "def plot_history(h, drop_m=0):\n",
    "    h = pd.DataFrame(h.history.history)\n",
    "    h['epoch'] = np.arange(len(h.index)) + 1\n",
    "    h = h.iloc[drop_m:]\n",
    "    plt.plot(h.epoch, h.loss, label='Training')\n",
    "    plt.plot(h.epoch, h.val_loss, label='Validation')\n",
    "    plt.legend()\n",
    "    \n",
    "# Callbacks to stop if validation performance stops to improve and to lower the learning-rate if appropriate.\n",
    "early_stop = tf.keras.callbacks.EarlyStopping(patience=10, mode='min')\n",
    "reduce_lr = tf.keras.callbacks.ReduceLROnPlateau(patience=5, factor=0.2)\n",
    "cb = [early_stop, reduce_lr]"
   ]
  },
  {
   "cell_type": "markdown",
   "metadata": {},
   "source": [
    "### Architecture"
   ]
  },
  {
   "cell_type": "code",
   "execution_count": 5,
   "metadata": {},
   "outputs": [
    {
     "name": "stdout",
     "output_type": "stream",
     "text": [
      "Model: \"sequential\"\n",
      "_________________________________________________________________\n",
      "Layer (type)                 Output Shape              Param #   \n",
      "=================================================================\n",
      "dense (Dense)                (None, 20)                60        \n",
      "_________________________________________________________________\n",
      "dense_1 (Dense)              (None, 1)                 21        \n",
      "=================================================================\n",
      "Total params: 81\n",
      "Trainable params: 81\n",
      "Non-trainable params: 0\n",
      "_________________________________________________________________\n"
     ]
    }
   ],
   "source": [
    "# Neural net structure (play with architecture)\n",
    "def fresh_neural_net():\n",
    "    m = keras.Sequential()\n",
    "    m.add(Dense(20, activation='tanh', input_shape=(2, )))\n",
    "    m.add(Dense(1, activation='linear'))\n",
    "    m.compile(loss='mse', optimizer=keras.optimizers.Nadam(lr=0.05))\n",
    "    return m\n",
    "\n",
    "# Create new net\n",
    "neural_net = fresh_neural_net()\n",
    "neural_net.summary()"
   ]
  },
  {
   "cell_type": "markdown",
   "metadata": {},
   "source": [
    "### Stochastic gradient descend until model does not get better anymore"
   ]
  },
  {
   "cell_type": "code",
   "execution_count": 6,
   "metadata": {},
   "outputs": [
    {
     "name": "stdout",
     "output_type": "stream",
     "text": [
      "Train on 900000 samples, validate on 100000 samples\n",
      "Epoch 1/1000\n",
      "900000/900000 [==============================] - 1s 1us/sample - loss: 491.1790 - val_loss: 151.7956\n",
      "Epoch 2/1000\n",
      "900000/900000 [==============================] - 0s 0us/sample - loss: 107.6255 - val_loss: 69.3005\n",
      "Epoch 3/1000\n",
      "900000/900000 [==============================] - 0s 0us/sample - loss: 53.3086 - val_loss: 40.3090\n",
      "Epoch 4/1000\n",
      "900000/900000 [==============================] - 0s 0us/sample - loss: 34.2494 - val_loss: 23.5082\n",
      "Epoch 5/1000\n",
      "900000/900000 [==============================] - 0s 0us/sample - loss: 26.2585 - val_loss: 21.0851\n",
      "Epoch 6/1000\n",
      "900000/900000 [==============================] - 0s 0us/sample - loss: 20.1638 - val_loss: 20.2738\n",
      "Epoch 7/1000\n",
      "900000/900000 [==============================] - 0s 0us/sample - loss: 18.1630 - val_loss: 23.0464\n",
      "Epoch 8/1000\n",
      "900000/900000 [==============================] - 0s 0us/sample - loss: 14.3309 - val_loss: 23.8731\n",
      "Epoch 9/1000\n",
      "900000/900000 [==============================] - 0s 0us/sample - loss: 13.3112 - val_loss: 13.3706\n",
      "Epoch 10/1000\n",
      "900000/900000 [==============================] - 0s 0us/sample - loss: 12.4793 - val_loss: 12.8617\n",
      "Epoch 11/1000\n",
      "900000/900000 [==============================] - 0s 0us/sample - loss: 11.0996 - val_loss: 8.4664\n",
      "Epoch 12/1000\n",
      "900000/900000 [==============================] - 0s 0us/sample - loss: 10.8866 - val_loss: 13.3819\n",
      "Epoch 13/1000\n",
      "900000/900000 [==============================] - 0s 0us/sample - loss: 8.6162 - val_loss: 8.0656\n",
      "Epoch 14/1000\n",
      "900000/900000 [==============================] - 0s 0us/sample - loss: 8.7842 - val_loss: 6.0478\n",
      "Epoch 15/1000\n",
      "900000/900000 [==============================] - 0s 0us/sample - loss: 7.6076 - val_loss: 7.3174\n",
      "Epoch 16/1000\n",
      "900000/900000 [==============================] - 0s 0us/sample - loss: 7.8957 - val_loss: 5.5336\n",
      "Epoch 17/1000\n",
      "900000/900000 [==============================] - 0s 0us/sample - loss: 7.3813 - val_loss: 7.6372\n",
      "Epoch 18/1000\n",
      "900000/900000 [==============================] - 0s 0us/sample - loss: 6.5727 - val_loss: 7.5704\n",
      "Epoch 19/1000\n",
      "900000/900000 [==============================] - 0s 0us/sample - loss: 7.2713 - val_loss: 5.0635\n",
      "Epoch 20/1000\n",
      "900000/900000 [==============================] - 0s 0us/sample - loss: 5.7808 - val_loss: 7.7993\n",
      "Epoch 21/1000\n",
      "900000/900000 [==============================] - 0s 0us/sample - loss: 6.2032 - val_loss: 4.9472\n",
      "Epoch 22/1000\n",
      "900000/900000 [==============================] - 0s 0us/sample - loss: 5.9884 - val_loss: 4.5624\n",
      "Epoch 23/1000\n",
      "900000/900000 [==============================] - 0s 0us/sample - loss: 5.2209 - val_loss: 2.8070\n",
      "Epoch 24/1000\n",
      "900000/900000 [==============================] - 0s 0us/sample - loss: 5.9208 - val_loss: 5.3825\n",
      "Epoch 25/1000\n",
      "900000/900000 [==============================] - 0s 0us/sample - loss: 4.6589 - val_loss: 5.3059\n",
      "Epoch 26/1000\n",
      "900000/900000 [==============================] - 0s 0us/sample - loss: 5.6794 - val_loss: 7.2567\n",
      "Epoch 27/1000\n",
      "900000/900000 [==============================] - 0s 0us/sample - loss: 4.3945 - val_loss: 5.9002\n",
      "Epoch 28/1000\n",
      "900000/900000 [==============================] - 0s 0us/sample - loss: 5.5699 - val_loss: 4.1360\n",
      "Epoch 29/1000\n",
      "900000/900000 [==============================] - 1s 1us/sample - loss: 1.8654 - val_loss: 1.8043\n",
      "Epoch 30/1000\n",
      "900000/900000 [==============================] - 0s 0us/sample - loss: 1.7967 - val_loss: 1.7778\n",
      "Epoch 31/1000\n",
      "900000/900000 [==============================] - 0s 0us/sample - loss: 1.7707 - val_loss: 1.7528\n",
      "Epoch 32/1000\n",
      "900000/900000 [==============================] - 0s 0us/sample - loss: 1.7457 - val_loss: 1.7282\n",
      "Epoch 33/1000\n",
      "900000/900000 [==============================] - 0s 0us/sample - loss: 1.7215 - val_loss: 1.7048\n",
      "Epoch 34/1000\n",
      "900000/900000 [==============================] - 0s 0us/sample - loss: 1.6981 - val_loss: 1.6814\n",
      "Epoch 35/1000\n",
      "900000/900000 [==============================] - 0s 0us/sample - loss: 1.6751 - val_loss: 1.6587\n",
      "Epoch 36/1000\n",
      "900000/900000 [==============================] - 0s 0us/sample - loss: 1.6527 - val_loss: 1.6366\n",
      "Epoch 37/1000\n",
      "900000/900000 [==============================] - 0s 0us/sample - loss: 1.6307 - val_loss: 1.6154\n",
      "Epoch 38/1000\n",
      "900000/900000 [==============================] - 0s 1us/sample - loss: 1.6093 - val_loss: 1.5953\n",
      "Epoch 39/1000\n",
      "900000/900000 [==============================] - 1s 1us/sample - loss: 1.5881 - val_loss: 1.5754\n",
      "Epoch 40/1000\n",
      "900000/900000 [==============================] - 1s 1us/sample - loss: 1.5675 - val_loss: 1.5534\n",
      "Epoch 41/1000\n",
      "900000/900000 [==============================] - 0s 0us/sample - loss: 1.5471 - val_loss: 1.5340\n",
      "Epoch 42/1000\n",
      "900000/900000 [==============================] - 0s 1us/sample - loss: 1.5272 - val_loss: 1.5135\n",
      "Epoch 43/1000\n",
      "900000/900000 [==============================] - 1s 1us/sample - loss: 1.5076 - val_loss: 1.4941\n",
      "Epoch 44/1000\n",
      "900000/900000 [==============================] - 1s 1us/sample - loss: 1.4884 - val_loss: 1.4750\n",
      "Epoch 45/1000\n",
      "900000/900000 [==============================] - 1s 1us/sample - loss: 1.4695 - val_loss: 1.4570\n",
      "Epoch 46/1000\n",
      "900000/900000 [==============================] - 0s 1us/sample - loss: 1.4512 - val_loss: 1.4391\n",
      "Epoch 47/1000\n",
      "900000/900000 [==============================] - 0s 0us/sample - loss: 1.4334 - val_loss: 1.4212\n",
      "Epoch 48/1000\n",
      "900000/900000 [==============================] - 0s 0us/sample - loss: 1.4159 - val_loss: 1.4042\n",
      "Epoch 49/1000\n",
      "900000/900000 [==============================] - 0s 0us/sample - loss: 1.3989 - val_loss: 1.3875\n",
      "Epoch 50/1000\n",
      "900000/900000 [==============================] - 0s 0us/sample - loss: 1.3821 - val_loss: 1.3708\n",
      "Epoch 51/1000\n",
      "900000/900000 [==============================] - 0s 1us/sample - loss: 1.3662 - val_loss: 1.3554\n",
      "Epoch 52/1000\n",
      "900000/900000 [==============================] - 0s 0us/sample - loss: 1.3506 - val_loss: 1.3412\n",
      "Epoch 53/1000\n",
      "900000/900000 [==============================] - 0s 0us/sample - loss: 1.3357 - val_loss: 1.3255\n",
      "Epoch 54/1000\n",
      "900000/900000 [==============================] - 0s 0us/sample - loss: 1.3213 - val_loss: 1.3120\n",
      "Epoch 55/1000\n",
      "900000/900000 [==============================] - 0s 0us/sample - loss: 1.3072 - val_loss: 1.2974\n",
      "Epoch 56/1000\n",
      "900000/900000 [==============================] - 1s 1us/sample - loss: 1.2940 - val_loss: 1.2879\n",
      "Epoch 57/1000\n",
      "900000/900000 [==============================] - 0s 0us/sample - loss: 1.2810 - val_loss: 1.2721\n",
      "Epoch 58/1000\n",
      "900000/900000 [==============================] - 0s 0us/sample - loss: 1.2688 - val_loss: 1.2618\n",
      "Epoch 59/1000\n",
      "900000/900000 [==============================] - 0s 0us/sample - loss: 1.2581 - val_loss: 1.2496\n",
      "Epoch 60/1000\n",
      "900000/900000 [==============================] - 0s 0us/sample - loss: 1.2457 - val_loss: 1.2386\n",
      "Epoch 61/1000\n",
      "900000/900000 [==============================] - 0s 0us/sample - loss: 1.2392 - val_loss: 1.2308\n",
      "Epoch 62/1000\n",
      "900000/900000 [==============================] - 0s 0us/sample - loss: 1.2850 - val_loss: 1.2348\n",
      "Epoch 63/1000\n",
      "900000/900000 [==============================] - 0s 0us/sample - loss: 1.2756 - val_loss: 1.8059\n",
      "Epoch 64/1000\n",
      "900000/900000 [==============================] - 0s 0us/sample - loss: 1.2985 - val_loss: 1.2019\n",
      "Epoch 65/1000\n",
      "900000/900000 [==============================] - 0s 0us/sample - loss: 1.2747 - val_loss: 1.2163\n",
      "Epoch 66/1000\n",
      "900000/900000 [==============================] - 0s 0us/sample - loss: 1.3183 - val_loss: 1.1979\n",
      "Epoch 67/1000\n",
      "900000/900000 [==============================] - 0s 0us/sample - loss: 1.2944 - val_loss: 1.3197\n",
      "Epoch 68/1000\n",
      "900000/900000 [==============================] - 0s 0us/sample - loss: 1.2599 - val_loss: 1.2418\n",
      "Epoch 69/1000\n",
      "900000/900000 [==============================] - 0s 0us/sample - loss: 1.2665 - val_loss: 1.1973\n",
      "Epoch 70/1000\n",
      "900000/900000 [==============================] - 0s 0us/sample - loss: 1.2953 - val_loss: 1.1757\n",
      "Epoch 71/1000\n",
      "900000/900000 [==============================] - 0s 0us/sample - loss: 1.2910 - val_loss: 1.1726\n",
      "Epoch 72/1000\n",
      "900000/900000 [==============================] - 0s 0us/sample - loss: 1.2684 - val_loss: 1.1894\n",
      "Epoch 73/1000\n",
      "900000/900000 [==============================] - 0s 0us/sample - loss: 1.2492 - val_loss: 1.3363\n",
      "Epoch 74/1000\n",
      "900000/900000 [==============================] - 0s 0us/sample - loss: 1.2555 - val_loss: 1.2065\n",
      "Epoch 75/1000\n",
      "900000/900000 [==============================] - 0s 0us/sample - loss: 1.2046 - val_loss: 1.1625\n",
      "Epoch 76/1000\n",
      "900000/900000 [==============================] - 0s 1us/sample - loss: 1.2913 - val_loss: 1.2791\n",
      "Epoch 77/1000\n",
      "900000/900000 [==============================] - 0s 0us/sample - loss: 1.2076 - val_loss: 1.1346\n",
      "Epoch 78/1000\n",
      "900000/900000 [==============================] - 0s 0us/sample - loss: 1.2389 - val_loss: 1.2898\n",
      "Epoch 79/1000\n",
      "900000/900000 [==============================] - 0s 0us/sample - loss: 1.2483 - val_loss: 1.1729\n",
      "Epoch 80/1000\n",
      "900000/900000 [==============================] - 0s 0us/sample - loss: 1.2166 - val_loss: 1.7492\n",
      "Epoch 81/1000\n",
      "900000/900000 [==============================] - 0s 0us/sample - loss: 1.2281 - val_loss: 1.1478\n",
      "Epoch 82/1000\n",
      "900000/900000 [==============================] - 0s 1us/sample - loss: 1.2150 - val_loss: 1.2924\n",
      "Epoch 83/1000\n",
      "900000/900000 [==============================] - 0s 0us/sample - loss: 1.1142 - val_loss: 1.1110\n",
      "Epoch 84/1000\n",
      "900000/900000 [==============================] - 0s 1us/sample - loss: 1.1104 - val_loss: 1.1105\n",
      "Epoch 85/1000\n",
      "900000/900000 [==============================] - 0s 0us/sample - loss: 1.1096 - val_loss: 1.1097\n",
      "Epoch 86/1000\n",
      "900000/900000 [==============================] - 0s 1us/sample - loss: 1.1088 - val_loss: 1.1087\n",
      "Epoch 87/1000\n",
      "900000/900000 [==============================] - 1s 1us/sample - loss: 1.1080 - val_loss: 1.1078\n",
      "Epoch 88/1000\n",
      "900000/900000 [==============================] - 1s 1us/sample - loss: 1.1071 - val_loss: 1.1070\n",
      "Epoch 89/1000\n",
      "900000/900000 [==============================] - 0s 1us/sample - loss: 1.1063 - val_loss: 1.1063\n",
      "Epoch 90/1000\n",
      "900000/900000 [==============================] - 0s 0us/sample - loss: 1.1054 - val_loss: 1.1051\n",
      "Epoch 91/1000\n",
      "900000/900000 [==============================] - 1s 1us/sample - loss: 1.1045 - val_loss: 1.1044\n",
      "Epoch 92/1000\n",
      "900000/900000 [==============================] - 0s 1us/sample - loss: 1.1037 - val_loss: 1.1033\n",
      "Epoch 93/1000\n",
      "900000/900000 [==============================] - 1s 1us/sample - loss: 1.1027 - val_loss: 1.1023\n",
      "Epoch 94/1000\n",
      "900000/900000 [==============================] - 1s 1us/sample - loss: 1.1017 - val_loss: 1.1020\n",
      "Epoch 95/1000\n",
      "900000/900000 [==============================] - 1s 1us/sample - loss: 1.1008 - val_loss: 1.1004\n",
      "Epoch 96/1000\n",
      "900000/900000 [==============================] - 1s 1us/sample - loss: 1.0997 - val_loss: 1.1000\n",
      "Epoch 97/1000\n",
      "900000/900000 [==============================] - 1s 1us/sample - loss: 1.0987 - val_loss: 1.0985\n",
      "Epoch 98/1000\n",
      "900000/900000 [==============================] - 1s 1us/sample - loss: 1.0976 - val_loss: 1.0974\n",
      "Epoch 99/1000\n",
      "900000/900000 [==============================] - 0s 1us/sample - loss: 1.0965 - val_loss: 1.0965\n",
      "Epoch 100/1000\n",
      "900000/900000 [==============================] - 1s 1us/sample - loss: 1.0954 - val_loss: 1.0952\n",
      "Epoch 101/1000\n",
      "900000/900000 [==============================] - 0s 0us/sample - loss: 1.0944 - val_loss: 1.0938\n",
      "Epoch 102/1000\n",
      "900000/900000 [==============================] - 0s 1us/sample - loss: 1.0931 - val_loss: 1.0928\n",
      "Epoch 103/1000\n",
      "900000/900000 [==============================] - 0s 0us/sample - loss: 1.0920 - val_loss: 1.0920\n",
      "Epoch 104/1000\n",
      "900000/900000 [==============================] - 0s 0us/sample - loss: 1.0908 - val_loss: 1.0916\n",
      "Epoch 105/1000\n",
      "900000/900000 [==============================] - 0s 0us/sample - loss: 1.0897 - val_loss: 1.0891\n",
      "Epoch 106/1000\n",
      "900000/900000 [==============================] - 0s 0us/sample - loss: 1.0885 - val_loss: 1.0879\n",
      "Epoch 107/1000\n",
      "900000/900000 [==============================] - 0s 0us/sample - loss: 1.0871 - val_loss: 1.0864\n",
      "Epoch 108/1000\n",
      "900000/900000 [==============================] - 0s 0us/sample - loss: 1.0859 - val_loss: 1.0868\n",
      "Epoch 109/1000\n",
      "900000/900000 [==============================] - 1s 1us/sample - loss: 1.0846 - val_loss: 1.0857\n",
      "Epoch 110/1000\n",
      "900000/900000 [==============================] - 1s 1us/sample - loss: 1.0833 - val_loss: 1.0832\n",
      "Epoch 111/1000\n",
      "900000/900000 [==============================] - 0s 0us/sample - loss: 1.0822 - val_loss: 1.0808\n",
      "Epoch 112/1000\n",
      "900000/900000 [==============================] - 0s 0us/sample - loss: 1.0808 - val_loss: 1.0799\n",
      "Epoch 113/1000\n",
      "900000/900000 [==============================] - 0s 1us/sample - loss: 1.0796 - val_loss: 1.0787\n",
      "Epoch 114/1000\n",
      "900000/900000 [==============================] - 0s 0us/sample - loss: 1.0783 - val_loss: 1.0772\n",
      "Epoch 115/1000\n",
      "900000/900000 [==============================] - 0s 0us/sample - loss: 1.0771 - val_loss: 1.0771\n",
      "Epoch 116/1000\n",
      "900000/900000 [==============================] - 1s 1us/sample - loss: 1.0758 - val_loss: 1.0748\n",
      "Epoch 117/1000\n",
      "900000/900000 [==============================] - 0s 0us/sample - loss: 1.0746 - val_loss: 1.0742\n",
      "Epoch 118/1000\n",
      "900000/900000 [==============================] - 0s 0us/sample - loss: 1.0733 - val_loss: 1.0718\n",
      "Epoch 119/1000\n",
      "900000/900000 [==============================] - 1s 1us/sample - loss: 1.0727 - val_loss: 1.0718\n",
      "Epoch 120/1000\n",
      "900000/900000 [==============================] - 0s 0us/sample - loss: 1.0708 - val_loss: 1.0705\n",
      "Epoch 121/1000\n",
      "900000/900000 [==============================] - 0s 0us/sample - loss: 1.0698 - val_loss: 1.0691\n",
      "Epoch 122/1000\n",
      "900000/900000 [==============================] - 0s 0us/sample - loss: 1.0687 - val_loss: 1.0687\n",
      "Epoch 123/1000\n",
      "900000/900000 [==============================] - 0s 1us/sample - loss: 1.0675 - val_loss: 1.0671\n",
      "Epoch 124/1000\n",
      "900000/900000 [==============================] - 0s 0us/sample - loss: 1.0661 - val_loss: 1.0660\n",
      "Epoch 125/1000\n",
      "900000/900000 [==============================] - 0s 0us/sample - loss: 1.0656 - val_loss: 1.0625\n",
      "Epoch 126/1000\n",
      "900000/900000 [==============================] - 0s 0us/sample - loss: 1.0640 - val_loss: 1.0634\n",
      "Epoch 127/1000\n",
      "900000/900000 [==============================] - 0s 0us/sample - loss: 1.0627 - val_loss: 1.0696\n",
      "Epoch 128/1000\n",
      "900000/900000 [==============================] - 1s 1us/sample - loss: 1.0617 - val_loss: 1.0602\n",
      "Epoch 129/1000\n",
      "900000/900000 [==============================] - 0s 0us/sample - loss: 1.0611 - val_loss: 1.0602\n",
      "Epoch 130/1000\n",
      "900000/900000 [==============================] - 1s 1us/sample - loss: 1.0601 - val_loss: 1.0577\n",
      "Epoch 131/1000\n",
      "900000/900000 [==============================] - 1s 1us/sample - loss: 1.0582 - val_loss: 1.0579\n",
      "Epoch 132/1000\n",
      "900000/900000 [==============================] - 0s 0us/sample - loss: 1.0582 - val_loss: 1.0565\n",
      "Epoch 133/1000\n",
      "900000/900000 [==============================] - 1s 1us/sample - loss: 1.0564 - val_loss: 1.0573\n",
      "Epoch 134/1000\n",
      "900000/900000 [==============================] - 0s 0us/sample - loss: 1.0561 - val_loss: 1.0546\n",
      "Epoch 135/1000\n",
      "900000/900000 [==============================] - 0s 0us/sample - loss: 1.0552 - val_loss: 1.0516\n",
      "Epoch 136/1000\n",
      "900000/900000 [==============================] - 0s 1us/sample - loss: 1.0532 - val_loss: 1.0542\n",
      "Epoch 137/1000\n",
      "900000/900000 [==============================] - 0s 0us/sample - loss: 1.0521 - val_loss: 1.0494\n",
      "Epoch 138/1000\n",
      "900000/900000 [==============================] - 0s 1us/sample - loss: 1.0521 - val_loss: 1.0503\n",
      "Epoch 139/1000\n",
      "900000/900000 [==============================] - 0s 0us/sample - loss: 1.0509 - val_loss: 1.0513\n",
      "Epoch 140/1000\n",
      "900000/900000 [==============================] - 0s 0us/sample - loss: 1.0498 - val_loss: 1.0504\n",
      "Epoch 141/1000\n",
      "900000/900000 [==============================] - 0s 1us/sample - loss: 1.0498 - val_loss: 1.0506\n",
      "Epoch 142/1000\n",
      "900000/900000 [==============================] - 0s 0us/sample - loss: 1.0485 - val_loss: 1.0473\n",
      "Epoch 143/1000\n",
      "900000/900000 [==============================] - 0s 0us/sample - loss: 1.0472 - val_loss: 1.0475\n",
      "Epoch 144/1000\n",
      "900000/900000 [==============================] - 0s 0us/sample - loss: 1.0463 - val_loss: 1.0493\n",
      "Epoch 145/1000\n",
      "900000/900000 [==============================] - 0s 0us/sample - loss: 1.0456 - val_loss: 1.0467\n",
      "Epoch 146/1000\n",
      "900000/900000 [==============================] - 0s 0us/sample - loss: 1.0455 - val_loss: 1.0460\n",
      "Epoch 147/1000\n",
      "900000/900000 [==============================] - 0s 0us/sample - loss: 1.0443 - val_loss: 1.0426\n",
      "Epoch 148/1000\n",
      "900000/900000 [==============================] - 0s 0us/sample - loss: 1.0443 - val_loss: 1.0460\n",
      "Epoch 149/1000\n",
      "900000/900000 [==============================] - 0s 0us/sample - loss: 1.0436 - val_loss: 1.0411\n",
      "Epoch 150/1000\n",
      "900000/900000 [==============================] - 0s 0us/sample - loss: 1.0425 - val_loss: 1.0424\n",
      "Epoch 151/1000\n",
      "900000/900000 [==============================] - 0s 0us/sample - loss: 1.0408 - val_loss: 1.0420\n",
      "Epoch 152/1000\n",
      "900000/900000 [==============================] - 0s 1us/sample - loss: 1.0415 - val_loss: 1.0425\n",
      "Epoch 153/1000\n",
      "900000/900000 [==============================] - 0s 0us/sample - loss: 1.0409 - val_loss: 1.0391\n",
      "Epoch 154/1000\n",
      "900000/900000 [==============================] - 0s 0us/sample - loss: 1.0402 - val_loss: 1.0426\n",
      "Epoch 155/1000\n",
      "900000/900000 [==============================] - 0s 0us/sample - loss: 1.0390 - val_loss: 1.0378\n",
      "Epoch 156/1000\n",
      "900000/900000 [==============================] - 0s 0us/sample - loss: 1.0387 - val_loss: 1.0365\n",
      "Epoch 157/1000\n",
      "900000/900000 [==============================] - 0s 0us/sample - loss: 1.0381 - val_loss: 1.0364\n",
      "Epoch 158/1000\n",
      "900000/900000 [==============================] - 0s 0us/sample - loss: 1.0376 - val_loss: 1.0355\n",
      "Epoch 159/1000\n",
      "900000/900000 [==============================] - 0s 0us/sample - loss: 1.0375 - val_loss: 1.0376\n",
      "Epoch 160/1000\n",
      "900000/900000 [==============================] - 0s 0us/sample - loss: 1.0376 - val_loss: 1.0357\n",
      "Epoch 161/1000\n",
      "900000/900000 [==============================] - 0s 0us/sample - loss: 1.0356 - val_loss: 1.0348\n",
      "Epoch 162/1000\n",
      "900000/900000 [==============================] - 0s 0us/sample - loss: 1.0353 - val_loss: 1.0340\n",
      "Epoch 163/1000\n",
      "900000/900000 [==============================] - 0s 0us/sample - loss: 1.0345 - val_loss: 1.0330\n",
      "Epoch 164/1000\n",
      "900000/900000 [==============================] - 0s 0us/sample - loss: 1.0345 - val_loss: 1.0328\n",
      "Epoch 165/1000\n",
      "900000/900000 [==============================] - 0s 0us/sample - loss: 1.0337 - val_loss: 1.0355\n",
      "Epoch 166/1000\n",
      "900000/900000 [==============================] - 0s 0us/sample - loss: 1.0335 - val_loss: 1.0320\n",
      "Epoch 167/1000\n",
      "900000/900000 [==============================] - 0s 0us/sample - loss: 1.0333 - val_loss: 1.0338\n",
      "Epoch 168/1000\n",
      "900000/900000 [==============================] - 0s 0us/sample - loss: 1.0324 - val_loss: 1.0387\n",
      "Epoch 169/1000\n",
      "900000/900000 [==============================] - 0s 0us/sample - loss: 1.0325 - val_loss: 1.0305\n",
      "Epoch 170/1000\n",
      "900000/900000 [==============================] - 0s 0us/sample - loss: 1.0317 - val_loss: 1.0319\n",
      "Epoch 171/1000\n",
      "900000/900000 [==============================] - 0s 0us/sample - loss: 1.0319 - val_loss: 1.0322\n",
      "Epoch 172/1000\n",
      "900000/900000 [==============================] - 0s 0us/sample - loss: 1.0311 - val_loss: 1.0304\n",
      "Epoch 173/1000\n",
      "900000/900000 [==============================] - 0s 0us/sample - loss: 1.0305 - val_loss: 1.0288\n",
      "Epoch 174/1000\n",
      "900000/900000 [==============================] - 0s 0us/sample - loss: 1.0302 - val_loss: 1.0318\n",
      "Epoch 175/1000\n",
      "900000/900000 [==============================] - 0s 0us/sample - loss: 1.0296 - val_loss: 1.0283\n",
      "Epoch 176/1000\n",
      "900000/900000 [==============================] - 0s 0us/sample - loss: 1.0296 - val_loss: 1.0280\n",
      "Epoch 177/1000\n",
      "900000/900000 [==============================] - 0s 0us/sample - loss: 1.0291 - val_loss: 1.0291\n",
      "Epoch 178/1000\n",
      "900000/900000 [==============================] - 0s 0us/sample - loss: 1.0285 - val_loss: 1.0269\n",
      "Epoch 179/1000\n",
      "900000/900000 [==============================] - 0s 0us/sample - loss: 1.0291 - val_loss: 1.0275\n",
      "Epoch 180/1000\n",
      "900000/900000 [==============================] - 0s 0us/sample - loss: 1.0283 - val_loss: 1.0264\n",
      "Epoch 181/1000\n",
      "900000/900000 [==============================] - 0s 0us/sample - loss: 1.0275 - val_loss: 1.0272\n",
      "Epoch 182/1000\n",
      "900000/900000 [==============================] - 0s 0us/sample - loss: 1.0273 - val_loss: 1.0277\n",
      "Epoch 183/1000\n",
      "900000/900000 [==============================] - 0s 0us/sample - loss: 1.0267 - val_loss: 1.0265\n",
      "Epoch 184/1000\n",
      "900000/900000 [==============================] - 0s 0us/sample - loss: 1.0268 - val_loss: 1.0252\n",
      "Epoch 185/1000\n",
      "900000/900000 [==============================] - 0s 0us/sample - loss: 1.0266 - val_loss: 1.0246\n",
      "Epoch 186/1000\n",
      "900000/900000 [==============================] - 0s 0us/sample - loss: 1.0263 - val_loss: 1.0268\n",
      "Epoch 187/1000\n",
      "900000/900000 [==============================] - 0s 0us/sample - loss: 1.0251 - val_loss: 1.0239\n",
      "Epoch 188/1000\n",
      "900000/900000 [==============================] - 0s 0us/sample - loss: 1.0253 - val_loss: 1.0240\n",
      "Epoch 189/1000\n",
      "900000/900000 [==============================] - 0s 0us/sample - loss: 1.0250 - val_loss: 1.0248\n",
      "Epoch 190/1000\n",
      "900000/900000 [==============================] - 0s 0us/sample - loss: 1.0254 - val_loss: 1.0257\n",
      "Epoch 191/1000\n",
      "900000/900000 [==============================] - 0s 0us/sample - loss: 1.0243 - val_loss: 1.0249\n",
      "Epoch 192/1000\n",
      "900000/900000 [==============================] - 0s 0us/sample - loss: 1.0250 - val_loss: 1.0242\n",
      "Epoch 193/1000\n",
      "900000/900000 [==============================] - 0s 0us/sample - loss: 1.0214 - val_loss: 1.0207\n",
      "Epoch 194/1000\n",
      "900000/900000 [==============================] - 0s 0us/sample - loss: 1.0212 - val_loss: 1.0209\n",
      "Epoch 195/1000\n",
      "900000/900000 [==============================] - 0s 0us/sample - loss: 1.0212 - val_loss: 1.0206\n",
      "Epoch 196/1000\n",
      "900000/900000 [==============================] - 0s 0us/sample - loss: 1.0212 - val_loss: 1.0209\n",
      "Epoch 197/1000\n",
      "900000/900000 [==============================] - 0s 0us/sample - loss: 1.0211 - val_loss: 1.0209\n",
      "Epoch 198/1000\n",
      "900000/900000 [==============================] - 0s 0us/sample - loss: 1.0211 - val_loss: 1.0207\n",
      "Epoch 199/1000\n",
      "900000/900000 [==============================] - 0s 0us/sample - loss: 1.0210 - val_loss: 1.0207\n",
      "Epoch 200/1000\n",
      "900000/900000 [==============================] - 0s 0us/sample - loss: 1.0210 - val_loss: 1.0207\n",
      "Epoch 201/1000\n",
      "900000/900000 [==============================] - 0s 0us/sample - loss: 1.0206 - val_loss: 1.0202\n",
      "Epoch 202/1000\n",
      "900000/900000 [==============================] - 0s 0us/sample - loss: 1.0206 - val_loss: 1.0203\n",
      "Epoch 203/1000\n",
      "900000/900000 [==============================] - 0s 0us/sample - loss: 1.0205 - val_loss: 1.0202\n",
      "Epoch 204/1000\n",
      "900000/900000 [==============================] - 0s 0us/sample - loss: 1.0205 - val_loss: 1.0202\n",
      "Epoch 205/1000\n",
      "900000/900000 [==============================] - 0s 0us/sample - loss: 1.0205 - val_loss: 1.0204\n",
      "Epoch 206/1000\n",
      "900000/900000 [==============================] - 0s 0us/sample - loss: 1.0205 - val_loss: 1.0202\n",
      "Epoch 207/1000\n",
      "900000/900000 [==============================] - 0s 0us/sample - loss: 1.0204 - val_loss: 1.0201\n",
      "Epoch 208/1000\n",
      "900000/900000 [==============================] - 0s 0us/sample - loss: 1.0204 - val_loss: 1.0201\n",
      "Epoch 209/1000\n",
      "900000/900000 [==============================] - 0s 0us/sample - loss: 1.0203 - val_loss: 1.0201\n",
      "Epoch 210/1000\n",
      "900000/900000 [==============================] - 0s 0us/sample - loss: 1.0203 - val_loss: 1.0202\n",
      "Epoch 211/1000\n",
      "900000/900000 [==============================] - 0s 0us/sample - loss: 1.0203 - val_loss: 1.0201\n",
      "Epoch 212/1000\n",
      "900000/900000 [==============================] - 0s 0us/sample - loss: 1.0203 - val_loss: 1.0201\n",
      "Epoch 213/1000\n",
      "900000/900000 [==============================] - 0s 0us/sample - loss: 1.0203 - val_loss: 1.0201\n",
      "Epoch 214/1000\n",
      "900000/900000 [==============================] - 0s 0us/sample - loss: 1.0203 - val_loss: 1.0201\n",
      "Epoch 215/1000\n",
      "900000/900000 [==============================] - 0s 0us/sample - loss: 1.0203 - val_loss: 1.0201\n",
      "Epoch 216/1000\n",
      "900000/900000 [==============================] - 0s 0us/sample - loss: 1.0203 - val_loss: 1.0201\n",
      "Epoch 217/1000\n",
      "900000/900000 [==============================] - 0s 0us/sample - loss: 1.0203 - val_loss: 1.0201\n",
      "Epoch 218/1000\n",
      "900000/900000 [==============================] - 0s 0us/sample - loss: 1.0203 - val_loss: 1.0201\n"
     ]
    },
    {
     "data": {
      "text/plain": [
       "<tensorflow.python.keras.callbacks.History at 0x20312758e48>"
      ]
     },
     "execution_count": 6,
     "metadata": {},
     "output_type": "execute_result"
    }
   ],
   "source": [
    "neural_net.fit(\n",
    "    X_train,\n",
    "    y_train,\n",
    "    batch_size=10000, \n",
    "    epochs=1000, \n",
    "    validation_data = (X_valid, y_valid),\n",
    "    callbacks=cb,\n",
    "    verbose=1)"
   ]
  },
  {
   "cell_type": "code",
   "execution_count": 7,
   "metadata": {},
   "outputs": [
    {
     "data": {
      "image/png": "[encoded data removed]",
      "text/plain": [
       "<Figure size 432x288 with 1 Axes>"
      ]
     },
     "metadata": {
      "needs_background": "light"
     },
     "output_type": "display_data"
    }
   ],
   "source": [
    "plot_history(neural_net, 20)"
   ]
  },
  {
   "cell_type": "markdown",
   "metadata": {},
   "source": [
    "### Test model"
   ]
  },
  {
   "cell_type": "code",
   "execution_count": 8,
   "metadata": {},
   "outputs": [
    {
     "data": {
      "text/plain": [
       "array([[24.06003]], dtype=float32)"
      ]
     },
     "execution_count": 8,
     "metadata": {},
     "output_type": "execute_result"
    }
   ],
   "source": [
    "neural_net.predict([[-3, -8]])"
   ]
  },
  {
   "cell_type": "markdown",
   "metadata": {},
   "source": [
    "### Extrapolation with numbers outside [-10, 10]?"
   ]
  },
  {
   "cell_type": "code",
   "execution_count": 9,
   "metadata": {},
   "outputs": [
    {
     "data": {
      "text/plain": [
       "array([[8.776615]], dtype=float32)"
      ]
     },
     "execution_count": 9,
     "metadata": {},
     "output_type": "execute_result"
    }
   ],
   "source": [
    "neural_net.predict([[4, 40]])"
   ]
  },
  {
   "cell_type": "markdown",
   "metadata": {},
   "source": [
    "The model works, but only within the range of samples available. Extrapolation is not possible without manual feature engineering."
   ]
  },
  {
   "cell_type": "markdown",
   "metadata": {},
   "source": [
    "## Gradient boosting"
   ]
  },
  {
   "cell_type": "markdown",
   "metadata": {},
   "source": [
    "Neural nets are especially successful with text, image, and sound data. For tabular data, other methods like gradient boosting are often better and easier to use. Hoever, since the normal person has never heard of GLMs, random forests or gradient boosting, it is easier to mention neural nets if someone asks about what we do...\n",
    "\n",
    "Here, we fit a [LightGBM model](https://lightgbm.readthedocs.io/en/latest), a gradient boosting algorithm implementation by Microsoft."
   ]
  },
  {
   "cell_type": "code",
   "execution_count": 10,
   "metadata": {},
   "outputs": [
    {
     "name": "stdout",
     "output_type": "stream",
     "text": [
      "Training until validation scores don't improve for 20 rounds\n",
      "[100]\tvalid_0's l2: 1.23496\n",
      "[200]\tvalid_0's l2: 1.12553\n",
      "[300]\tvalid_0's l2: 1.09257\n",
      "[400]\tvalid_0's l2: 1.07608\n",
      "[500]\tvalid_0's l2: 1.06854\n",
      "[600]\tvalid_0's l2: 1.06417\n",
      "[700]\tvalid_0's l2: 1.06178\n",
      "[800]\tvalid_0's l2: 1.06043\n",
      "Early stopping, best iteration is:\n",
      "[876]\tvalid_0's l2: 1.05976\n"
     ]
    }
   ],
   "source": [
    "import lightgbm as lgb\n",
    "\n",
    "# Internal data handler\n",
    "dtrain = lgb.Dataset(X_train, y_train)\n",
    "dvalid = lgb.Dataset(X_valid, y_valid)\n",
    "\n",
    "# Parameters\n",
    "params = {\n",
    "    'learning_rate': 0.2,\n",
    "    'num_leaves': 63,\n",
    "    'min_child_samples': 10,\n",
    "    'objective': 'mse'\n",
    "}\n",
    "\n",
    "# Fit until validation performance starts to deteriorate\n",
    "fit = lgb.train(\n",
    "    params, \n",
    "    train_set=dtrain,\n",
    "    early_stopping_rounds=20,\n",
    "    num_boost_round=10000,\n",
    "    valid_sets=dvalid,\n",
    "    verbose_eval=100\n",
    ")"
   ]
  },
  {
   "cell_type": "code",
   "execution_count": 11,
   "metadata": {},
   "outputs": [
    {
     "data": {
      "text/plain": [
       "array([24.15381159])"
      ]
     },
     "execution_count": 11,
     "metadata": {},
     "output_type": "execute_result"
    }
   ],
   "source": [
    "fit.predict([[-3, -8]])"
   ]
  },
  {
   "cell_type": "markdown",
   "metadata": {},
   "source": [
    "### Extrapolation with numbers outside [-10, 10]?"
   ]
  },
  {
   "cell_type": "code",
   "execution_count": 12,
   "metadata": {},
   "outputs": [
    {
     "data": {
      "text/plain": [
       "array([29.82848241])"
      ]
     },
     "execution_count": 12,
     "metadata": {},
     "output_type": "execute_result"
    }
   ],
   "source": [
    "fit.predict([[20, 3]])"
   ]
  },
  {
   "cell_type": "markdown",
   "metadata": {},
   "source": [
    "## Reality?\n",
    "- More than two input variables\n",
    "- Missing values\n",
    "- Outliers and data errors\n",
    "- Special data structure (clusters, time series, spatial, ...)\n",
    "- Extrapolation"
   ]
  },
  {
   "cell_type": "code",
   "execution_count": null,
   "metadata": {},
   "outputs": [],
   "source": []
  }
 ],
 "metadata": {
  "kernelspec": {
   "display_name": "Python 3",
   "language": "python",
   "name": "python3"
  },
  "language_info": {
   "codemirror_mode": {
    "name": "ipython",
    "version": 3
   },
   "file_extension": ".py",
   "mimetype": "text/x-python",
   "name": "python",
   "nbconvert_exporter": "python",
   "pygments_lexer": "ipython3",
   "version": "3.7.7"
  }
 },
 "nbformat": 4,
 "nbformat_minor": 4
}
